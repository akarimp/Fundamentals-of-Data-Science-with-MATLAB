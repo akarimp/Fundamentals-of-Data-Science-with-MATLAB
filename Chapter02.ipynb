{
 "cells": [
  {
   "cell_type": "markdown",
   "id": "a912b0d4",
   "metadata": {},
   "source": [
    "# Chapter 2 Introduction to MATLAB Programming\n",
    "\n",
    "In this chapter, the basics of programming with the MATLAB language are\n",
    "described. First, MATLAB syntax style is explained. Then, MATLAB\n",
    "built-in functions, add-on toolboxes, and third-party packages are\n",
    "described. After that, mathematical, comparison, and logical operators\n",
    "are presented. Next, integer, floating point, and complex numbers are\n",
    "described. Then, it is explained how to work with strings. It follows by\n",
    "descriptions of the vector creation. After that, the if, for and while\n",
    "statements are explained. Next, it is described how to define a\n",
    "function. Then, it is demonstrated how to use a tilde. At the end, it is\n",
    "explained how to work with files and directories.\n",
    "\n",
    "## 2.1 MATLAB Syntax Style\n",
    "\n",
    "MATLAB syntax follows sets of standard styles and layouts. Probably, the\n",
    "most distinctive principle of the MATLAB code layout is its use of the\n",
    "end keyword to define a block of code. In MATLAB, the end keyword is\n",
    "used to mark and define each block of code from other blocks in rest of\n",
    "the code. Every new block of code should finish with the end keyword.\n",
    "\n",
    "Another principle of the MATLAB code layout is that it ignores an\n",
    "indentation. In simple words, indentation is a blank space at the start\n",
    "of each line in a code, which means to start a new line of code further\n",
    "in the left compared with a previous line. In MATLAB, an indentation may\n",
    "be used to structure a code to visually separate each block of code from\n",
    "other blocks in rest of the code. Every time a new block of code is\n",
    "about to start, it can be indented to the left (its lines start further\n",
    "in left) compared with lines in a previous block. In MATLAB, an\n",
    "indentation may be used to structure a code to make it more readable,\n",
    "however, MATLAB does not require it and treats both indented and\n",
    "non-indented code the same way.\n",
    "\n",
    "MATLAB may not suggest limiting each line of code to a specific number\n",
    "of characters, however, it is a good practice to split a long line of\n",
    "code into two or more lines. In MATLAB, an ellipsis, ..., is used for a\n",
    "line continuation (a line break). In general, any line of MATLAB code\n",
    "(regardless of its length) can be split into two or more lines by using\n",
    "an ellipsis at the end of each line. Here is an example of how to use an\n",
    "ellipsis for a line continuation. In this example, integers from 1 to 10\n",
    "are added together."
   ]
  },
  {
   "cell_type": "code",
   "execution_count": null,
   "id": "91092166",
   "metadata": {},
   "outputs": [],
   "source": [
    "a=1+2+3+4+5 ...\n",
    "    +6+7+8+9+10;"
   ]
  },
  {
   "cell_type": "markdown",
   "id": "b95afa0e",
   "metadata": {},
   "source": [
    "Here is another example for a line continuation. In this example, a text\n",
    "is split into three lines."
   ]
  },
  {
   "cell_type": "code",
   "execution_count": null,
   "id": "989f2aa5",
   "metadata": {},
   "outputs": [],
   "source": [
    "a=['This is a sample to show a line continuation. ' ...\n",
    "    'Now let’s start the 2nd line, ' ...\n",
    "    'This is the 3rd line.'];"
   ]
  },
  {
   "cell_type": "markdown",
   "id": "4f9630ca",
   "metadata": {},
   "source": [
    "Typically, code developers are expected to include some explanations\n",
    "throughout a source code. These explanations even become more necessary\n",
    "when we are dealing with long codes and complex projects. These extra\n",
    "explanations and descriptions help to add more clarification to a code\n",
    "and provide references for the future. It also can help other developers\n",
    "to understand the logic behind a code. These additional explanations are\n",
    "called comments. In MATLAB, a comment is marked by using a percent sign,\n",
    "%, at the start of the comment. This tells MATLAB to ignore anything\n",
    "comes after %. A comment can be a separate line, or it can be entered at\n",
    "the end of the line after MATLAB commands. Here is an example of how to\n",
    "use comments in MATLAB:"
   ]
  },
  {
   "cell_type": "code",
   "execution_count": null,
   "id": "ca5ac3a6",
   "metadata": {},
   "outputs": [],
   "source": [
    "%In the next line, 2+3 is assigned to a\n",
    "a=2+3;\n",
    "%In the next line, 2 is raised to the power 3\n",
    "b=2^3; %A value of b is equal to 8"
   ]
  },
  {
   "cell_type": "markdown",
   "id": "995be663",
   "metadata": {},
   "source": [
    "To create multiple lines of comment, one method is to use % sign at the\n",
    "start of each line. The easier method to do that, is to use %{ before\n",
    "the first line of a comment block and use %} after the last line of a\n",
    "comment block. In other words, anything comes between %{ and %} is\n",
    "considered as a comment. Here is a general syntax shows how to create a\n",
    "block of comments:"
   ]
  },
  {
   "cell_type": "code",
   "execution_count": null,
   "id": "e21119d9",
   "metadata": {},
   "outputs": [],
   "source": [
    "%{\n",
    "comment\n",
    "comment\n",
    "comment\n",
    "%}"
   ]
  },
  {
   "cell_type": "markdown",
   "id": "bfc40bd4",
   "metadata": {},
   "source": [
    "In MATLAB, it is possible to split a code into a series of sections. To\n",
    "do that, double percent signs, %%, are used at the start of the line\n",
    "where a new section of code is started. Using sections in a code helps\n",
    "to divide a code into a series of groups as each group serves a specific\n",
    "goal.\n",
    "\n",
    "Another common syntax style is to use a semicolon at the end of a code\n",
    "line. Every time a MATLAB syntax is run, MATLAB shows outputs at a\n",
    "command window. To stop MATLAB showing results from a line of a code in\n",
    "a command window, a semicolon, ; , should be used at the end of that\n",
    "line. This is particularly helpful when a MATLAB script file is\n",
    "executed.\n",
    "\n",
    "MATLAB has specific naming rules for variable names. Here are rules that\n",
    "variable names should follow:\n",
    "\n",
    "-   Variable names can consist of letters (both uppercase, A-Z, and\n",
    "    lowercase, a-z), digits (0-9), and an underscore character (\\_).\n",
    "-   A variable name length should be limited to a number that the\n",
    "    namelengthmax command returns.\n",
    "-   Variable names should start with a letter. Variable names cannot\n",
    "    start with a digit or underscore, \\_.\n",
    "-   The rest of a variable name, i.e. a part that comes after the first\n",
    "    character, can consist of letters, digits, and underscores.\n",
    "-   Variable names cannot be the same as MATLAB keywords. To check if a\n",
    "    name is a MATLAB keyword, the iskeyword('...') command may be used.\n",
    "    The iskeyword command returns all MATLAB keywords.\n",
    "-   Variable names are case sensitive. For example, age=60 and Age=60\n",
    "    are considered as two separate variables. Although it is allowed to\n",
    "    use both age and Age as a variable name, it is highly recommended to\n",
    "    avoid using both of them in the same code.\n",
    "-   Space is not allowed in variable names. Therefore, space cannot be\n",
    "    used between parts of a compound name. To split a variable name into\n",
    "    two or more parts, use an underscore character, \\_, between parts\n",
    "    (This practice is known as snake case). For example, best age=25 is\n",
    "    not correct. Some acceptable alternatives are: best_age=25, or\n",
    "    bestage=25, or BestAge=25, or any other combination without a space.\n",
    "-   It is suggested to avoid using the same name for variables and\n",
    "    functions, particularly in the same script.\n",
    "\n",
    "## 2.2 MATLAB Built-in Functions, Add-on Toolboxes, and Third-Party Packages\n",
    "\n",
    "MATLAB comes with a large number of built-in functions. All built-in\n",
    "functions are loaded at the moment MATLAB starts and become available to\n",
    "use. Here are some of the MATLAB built-in functions: abs, clear, length,\n",
    "max, min, and disp.\n",
    "\n",
    "In addition to built-in functions, MATLAB has a list of add-on toolboxes\n",
    "that may be acquired separately. To use any of the toolboxes, its\n",
    "license should be obtained first. Any of these toolboxes includes a\n",
    "series of functions which developed to conduct specific tasks. After a\n",
    "toolbox is obtained, all associated functions in that toolbox become\n",
    "available to use. Some of the MATLAB toolboxes are: Curve Fitting\n",
    "Toolbox, Data Acquisition Toolbox, Image Processing Toolbox, Mapping\n",
    "Toolbox, Optimization Toolbox, Parallel Computing Toolbox, and Signal\n",
    "Processing Toolbox.\n",
    "\n",
    "Similar to built-in functions, MATLAB comes with pre-defined constants.\n",
    "The most commonly used MATLAB built-in constants are eps, pi, and NaN.\n",
    "Also, MATLAB has a series of keywords such as if, for, and while.\n",
    "\n",
    "Furthermore, there are tons of popular third-party packages for MATLAB.\n",
    "Unlike the built-in functions that come pre-installed with MATLAB, the\n",
    "third-party packages need to be added manually after MATLAB is\n",
    "installed. To use the third-party package, it should be downloaded and\n",
    "stored on a system. If a packaged is zipped, it should be unzipped\n",
    "first. Now, to use this package, MATLAB needs to know where to look for\n",
    "this new package. For that purpose, a folder that contains this package\n",
    "should be added to the MATLAB search path. A folder can be added to the\n",
    "MATLAB search path by using the addpath command. Each package might have\n",
    "its own installation instruction that users should follow.\n",
    "\n",
    "## 2.3 Mathematical Operators\n",
    "\n",
    "MATLAB has a series of arithmetic operators. When MATLAB starts, these\n",
    "mathematical operators are available to use right away. However, there\n",
    "are other operators or functions that are only available through add-on\n",
    "toolboxes. For example, a plus operator, +, is always available to use,\n",
    "while the periodogram function which estimates a power spectral density,\n",
    "is only available through the Signal Processing Toolbox (Although it\n",
    "might be obtained from the third-party packages as well). Therefore, to\n",
    "use the periodogram function, the Signal Processing Toolbox should be\n",
    "obtained first.\n",
    "\n",
    "|     |                               |     |                                                                   |\n",
    "|-----|-------------------------------|-----|-------------------------------------------------------------------|\n",
    "|     | MATLAB mathematical operators |     |                                                                   |\n",
    "|     | **Operation**                 |     | **Description**                                                   |\n",
    "|     | x + y                         |     | Add x and y                                                       |\n",
    "|     | x - y                         |     | Subtract y from x                                                 |\n",
    "|     | x \\* y                        |     | Multiply x by y (matrix multiplication)                           |\n",
    "|     | x .\\* y                       |     | Multiply x by y (element-wise multiplication)                     |\n",
    "|     | x / y                         |     | Divide x by y (matrix right division)                             |\n",
    "|     | x ./ y                        |     | Divide x by y (element-wise division)                             |\n",
    "|     | A \\\\ B                        |     | Matrix left division: solve systems of linear equations as Ax = B |\n",
    "|     | mod(x, y)                     |     | Modulo: a reminder of x divided by y                              |\n",
    "|     | -x                            |     | Negative x                                                        |\n",
    "|     | abs(x)                        |     | An absolute value of x (magnitude of x, if x is a complex number) |\n",
    "|     | x^y                           |     | Raise x to the power of y (matrix power)                          |\n",
    "|     | x.^y                          |     | Raise x to the power of y (element-wise power)                    |\n",
    "|     | x.'                           |     | Transpose of x                                                    |\n",
    "\n",
    "There are two types of arithmetic operations in MATLAB., an array\n",
    "operation and a matrix operation. An array operation is used for\n",
    "numerical operation while a matrix operation uses a linear algebra for\n",
    "matrix manipulations.\n",
    "\n",
    "The first type of arithmetic operations is array operations, which is\n",
    "used for numerical operations. For example, 2\\*3 is a simple numerical\n",
    "manipulation. As another example for an array operation, consider\n",
    "matrixes A and a scaler 2. Now, the A\\*2 expression multiplies all\n",
    "elements of matrix A by 2. Similarly, A/2 divides all elements of matrix\n",
    "A by 2, the A+2 adds 2 to all elements of matrix A, and the A-2\n",
    "subtracts 2 from all elements of matrix A. However, 2/A causes an error,\n",
    "as we cannot divide a number by a matrix.\n",
    "\n",
    "Another situation that an array operation might be used is in\n",
    "computations that element by element (element-wise) operations are\n",
    "required. For example, consider the same-size matrixes B and C. Now,\n",
    "assume a case that we need to multiply all elements in a matrix B by\n",
    "their corresponding elements in a matrix C. To do that we can use B.\\*C\n",
    "expression. Similarly, B./C divides all elements of a matrix B by their\n",
    "corresponding elements in a matrix C. Here, the period character, .,\n",
    "instructs MATLAB to use array operations rather than matrix operations.\n",
    "As array and matrix operations for + and - are the same, there is no\n",
    "need to use a period before them.\n",
    "\n",
    "Remember that a 2/A expression causes an error, however, the 2./A\n",
    "divides 2 by all elements of matrix A. Similarly, the A^2 causes an\n",
    "error, however, the A.^2 raises all elements of matrix A to the power of\n",
    "2. Note that, A.\\*2 is the same as A\\*2 and A./2 is the same as A/2.\n",
    "\n",
    "The second type of arithmetic operations is matrix operations, which is\n",
    "used for matrix manipulations. For example, consider matrixes D and F\n",
    "with compatible sizes. The D\\*F expression multiplies a matrix D by a\n",
    "matrix F, the D/F divides a matrix D by a matrix F, the D+F adds a\n",
    "matrix D and a matrix F, the D-F subtract a matrix D from a matrix F.\n",
    "Remember, in each of these matrix operations, matrixes should have\n",
    "compatible sizes, otherwise, it causes an error.\n",
    "\n",
    "Here are examples of the typical arithmetic operators in MATLAB:"
   ]
  },
  {
   "cell_type": "code",
   "execution_count": null,
   "id": "0c264ac1",
   "metadata": {},
   "outputs": [],
   "source": [
    "%Assume x=3, y=2, and z=[1,2,3]\n",
    "%Add x and y\n",
    "a=3+2;\n",
    "%Subtract y from x\n",
    "a=3-2;\n",
    "%Multiply x by y\n",
    "a=3*2;\n",
    "%Multiply z by y (element-wise)\n",
    "%Output: [2,4,6]\n",
    "a=[1,2,3].*2;\n",
    "%Divide x by y\n",
    "a=3/2;\n",
    "%Divide z by y (element-wise)\n",
    "%Output: [0.5,1,1.5]\n",
    "a=[1,2,3]./2;\n",
    "%Return a remainder of x divided by y\n",
    "%Output: 1\n",
    "a=mod(3,2);\n",
    "%Return x raised to the power of y\n",
    "%Output: 9\n",
    "a=3^2;\n",
    "%Return z raised to the power of y (element-wise)\n",
    "%Output: [1,4,9]\n",
    "a=[1,2,3].^2;\n",
    "%Return a transpose of z \n",
    "%Output: [1;2;3]\n",
    "a=[1,2,3].';"
   ]
  },
  {
   "cell_type": "markdown",
   "id": "9fe540cb",
   "metadata": {},
   "source": [
    "## 2.4 Comparison Operators\n",
    "\n",
    "MATLAB offers a series of comparison operators. These operators compare\n",
    "expressions with each other. These operators typically return logical 1\n",
    "(true) if a statement is correct and return logical 0 (false) if a\n",
    "statement is not correct. These operators are typically used\n",
    "substantially during numerical computations.\n",
    "\n",
    "|     |                                 |     |                                             |\n",
    "|-----|---------------------------------|-----|---------------------------------------------|\n",
    "|     | **MATLAB comparison operators** |     |                                             |\n",
    "|     | **Operation**                   |     | **Description**                             |\n",
    "|     | x \\< y                          |     | Evaluate if x is less than y                |\n",
    "|     | x \\<= y                         |     | Evaluate if x is less than or equal to y    |\n",
    "|     | x \\> y                          |     | Evaluate if x is greater than y             |\n",
    "|     | x \\>= y                         |     | Evaluate if x is greater than or equal to y |\n",
    "|     | x == y                          |     | Evaluate if x is equal to y                 |\n",
    "|     | x \\~= y                         |     | Evaluate if x is not equal to y             |\n",
    "\n",
    "Here are examples of comparison operators in MATLAB:"
   ]
  },
  {
   "cell_type": "code",
   "execution_count": null,
   "id": "bf1ce751",
   "metadata": {},
   "outputs": [],
   "source": [
    "%Statement in the next line returns 1 (true)\n",
    "3>2\n",
    "%Statement in the next line returns 0 (false)\n",
    "3==2\n",
    "%Statement in the next line returns 0 (false)\n",
    "3<2"
   ]
  },
  {
   "cell_type": "markdown",
   "id": "2a0adf94",
   "metadata": {},
   "source": [
    "## 2.5 Logical Operators\n",
    "\n",
    "There are 5 logical operators in MATLAB: \\|, &, \\|\\|, &&, \\~,. These\n",
    "operators evaluate given expressions and return logical 1 (true) or\n",
    "logical 0 (false). Statement (x \\| y) returns 1 if one of the x or y is\n",
    "true, otherwise, it returns 0. Statement (x & y) returns 1 if both x and\n",
    "y are true, otherwise, it returns 0. Statement (\\~x) returns 1 if x is\n",
    "false, otherwise, it returns 0. The && represents short-circuiting\n",
    "logical AND. Similarly, the \\|\\| represents short-circuiting logical OR.\n",
    "\n",
    "|     |                              |     |                                                        |\n",
    "|-----|------------------------------|-----|--------------------------------------------------------|\n",
    "|     | **MATLAB logical operators** |     |                                                        |\n",
    "|     | **Operation**                |     | **Description**                                        |\n",
    "|     | x \\| y                       |     | Logical OR, return logical 1 if x or y is true         |\n",
    "|     | x \\|\\| y                     |     | Logical OR (short-circuiting)                          |\n",
    "|     | x & y                        |     | Logical AND, return logical 1 if both x and y are true |\n",
    "|     | x && y                       |     | Logical AND (short-circuiting)                         |\n",
    "|     | \\~x                          |     | Logical NOT, return logical 1 if x is false            |\n",
    "\n",
    "Here are examples of logical operators in MATLAB:"
   ]
  },
  {
   "cell_type": "code",
   "execution_count": null,
   "id": "a69ebe71",
   "metadata": {},
   "outputs": [],
   "source": [
    "%Statement in the next line returns 1 (true)\n",
    "(3>2) | (2<1)\n",
    "%Statement in the next line returns 0 (false)\n",
    "(3>2) & (2==1)\n",
    "%Statement in the next line returns 0 (false)\n",
    "~(3>2)"
   ]
  },
  {
   "cell_type": "markdown",
   "id": "753b6c31",
   "metadata": {},
   "source": [
    "## 2.6 Integer and Floating Point\n",
    "\n",
    "In MATLAB, there are 3 numerical types that are used the most. They are\n",
    "integer, floating point, and complex numbers. Integers are zero,\n",
    "positive, or negative numbers without any decimal point and decimal part\n",
    "such as a=3. Floating points are numbers that have a decimal point and a\n",
    "decimal part (a fraction part) such as a=3.2. By default, MATLAB\n",
    "considers numerical values as a double-precision floating point.\n",
    "\n",
    "The int8(x) function converts x to 8-bit signed integer. The double(x)\n",
    "converts x to a double-precision floating point. The ceil(x) round x\n",
    "toward a positive infinity and returns the smallest integer that is\n",
    "greater than or equal to x. The floor(x) rounds x toward a negative\n",
    "infinity and returns the largest integer that is less than or equal to\n",
    "x.\n",
    "\n",
    "If a variable becomes NaN, it means that a variable is Not-a-Number. If\n",
    "a variable becomes Inf, it means that a variable is an infinity. A value\n",
    "of eps in MATLAB is equal 2.2204e-16.\n",
    "\n",
    "|     |                     |     |                                                                                                     |\n",
    "|-----|---------------------|-----|-----------------------------------------------------------------------------------------------------|\n",
    "|     | MATLAB number types |     |                                                                                                     |\n",
    "|     | **Operation**       |     | **Description**                                                                                     |\n",
    "|     | int8(x)             |     | Convert x to 8-bit signed integer                                                                   |\n",
    "|     | double(x)           |     | Convert x to a double-precision floating point                                                      |\n",
    "|     | round(x,n)          |     | Return x rounded to n precision after (for n\\>0) or before (for n\\<0) a decimal point (default n=0) |\n",
    "|     | ceil(x)             |     | Return the smallest integer greater than or equal to x                                              |\n",
    "|     | floor(x)            |     | Return the largest integer less than or equal to x                                                  |\n",
    "|     | fix(x)              |     | Return x rounded toward 0 (truncate a fractional part)                                              |\n",
    "\n",
    "Here are examples of integers and floating point numbers:"
   ]
  },
  {
   "cell_type": "code",
   "execution_count": null,
   "id": "1b83d4dc",
   "metadata": {},
   "outputs": [],
   "source": [
    "%Numbers\n",
    "a=int8(3.2);\n",
    "b=double(3);\n",
    "c=round(3.456);\n",
    "d=ceil(3.2);\n",
    "f=floor(3.2);\n",
    "g=fix(3.2);\n",
    "h=NaN;"
   ]
  },
  {
   "cell_type": "markdown",
   "id": "1013041a",
   "metadata": {},
   "source": [
    "To truncate a floating point number x to n precision after a decimal\n",
    "point without rounding it, we can use a mathematical expression\n",
    "(fix(x\\*10^n))/(10^n). Here is an example of how to keep only 2 digits\n",
    "after a decimal point:"
   ]
  },
  {
   "cell_type": "code",
   "execution_count": null,
   "id": "b3dfb0d6",
   "metadata": {},
   "outputs": [],
   "source": [
    "%Following statement returns 2 digits after a decimal point \n",
    "%Convert 3.45678 to 3.4500\n",
    "%Output: 3.4500\n",
    "a=(fix(3.45678*10^2))/(10^2);"
   ]
  },
  {
   "cell_type": "markdown",
   "id": "6184aac6",
   "metadata": {},
   "source": [
    "A scientific notation (a scientific number) is typically presented by a\n",
    "mathematical expression as $$m\\times 10^{n}$$. In MATLAB, a scientific\n",
    "notation is presented by using a letter e or E. In this form, a letter e\n",
    "or E presents “times ten raised to the power of”. For example, a\n",
    "mathematical expression of $$1.23\\times 10^{4}$$ is written as 1.23e4 in\n",
    "MATLAB. Here are examples of scientific notations in MATLAB:"
   ]
  },
  {
   "cell_type": "code",
   "execution_count": null,
   "id": "33b9948a",
   "metadata": {},
   "outputs": [],
   "source": [
    "%Scientific notations (scientific numbers)\n",
    "a=1.23e4;\n",
    "b=4.5e-6;\n",
    "c=-8E12;"
   ]
  },
  {
   "cell_type": "markdown",
   "id": "59dc1a39",
   "metadata": {},
   "source": [
    "## 2.7 Complex Numbers\n",
    "\n",
    "A Complex number in MATLAB is defined as\n",
    "$${\\mathit{real} + \\mathit{imag}}\\times i$$, where $$i = \\sqrt{- 1}$$ is\n",
    "an imaginary unit. Typically, an imaginary unit is presented by i in\n",
    "mathematical texts, however, MATLAB uses both i and j for that purpose.\n",
    "Note that, to yield an imaginary number, an imaginary unit i or j should\n",
    "be always appended to a numeric literal such as 1i. There should not be\n",
    "any space between a number and i or j. If i or j is not attached to a\n",
    "number, then MATLAB may consider them as a variable, not as an imaginary\n",
    "unit.\n",
    "\n",
    "A complex number in MATLAB can be defined by one of the following\n",
    "methods:\n",
    "\n",
    "-   The first method is to define a complex number by using the complex\n",
    "    function as z=complex(real,imag), where z is a complex number, real\n",
    "    is a real part of the complex number, and imag is an imaginary part\n",
    "    of the complex number. Note that, complex(x) is considered as\n",
    "    complex(x,0).\n",
    "-   The second method is to define a complex number as z=a+bi or z=a+bj,\n",
    "    such as z=3+2i or z=x+y\\*1j.\n",
    "\n",
    "For any given complex number such as z, its magnitude can be obtained by\n",
    "abs(z), its real part can be obtained by real(z), its imaginary part can\n",
    "be obtained by imag(z), and its phase can be obtained by angle(z).\n",
    "\n",
    "|     |                       |     |                                                                                                             |\n",
    "|-----|-----------------------|-----|-------------------------------------------------------------------------------------------------------------|\n",
    "|     | MATLAB complex number |     |                                                                                                             |\n",
    "|     | **Operation**         |     | **Description**                                                                                             |\n",
    "|     | complex(real,imag)    |     | A complex number as $$\\left( {{\\mathit{real} + \\mathit{imag}}\\times 1i} \\right)$$, where $$i = \\sqrt{- 1}$$ |\n",
    "|     | abs(z)                |     | Return an absolute value of z (magnitude of z, if z is a complex number)                                    |\n",
    "|     | real(z)               |     | Return a real part of a complex number z                                                                    |\n",
    "|     | imag(z)               |     | Return an imaginary part of a complex number z                                                              |\n",
    "|     | angle(z)              |     | Return a phase of a complex number z                                                                        |\n",
    "\n",
    "Here are examples of complex numbers in MATLAB:"
   ]
  },
  {
   "cell_type": "code",
   "execution_count": null,
   "id": "ef99d92a",
   "metadata": {},
   "outputs": [],
   "source": [
    "%Return a complex number as z=x+y*1i using the complex function\n",
    "z=complex(3,2);\n",
    "%Return a complex number as z=x+y*1i\n",
    "z=3+2i;\n",
    "%Return a complex number as z=x+y*1i\n",
    "x=3;\n",
    "y=2;\n",
    "z=x+y*1i;\n",
    "%Return a real part of the complex number\n",
    "%Output: 3\n",
    "real(z)\n",
    "%Return an imaginary part of the complex number\n",
    "%Output: 2\n",
    "imag(z)\n",
    "%Return a magnitude of the complex number\n",
    "%Output: 3.6055\n",
    "abs(z)\n",
    "%Return a phase of the complex number\n",
    "%Output: 0.5880\n",
    "angle(z)"
   ]
  },
  {
   "cell_type": "markdown",
   "id": "625d41aa",
   "metadata": {},
   "source": [
    "## 2.8 Strings\n",
    "\n",
    "MATLAB has a series of features and commands for text processing and\n",
    "string manipulation. In MATLAB, a text can be presented by a character\n",
    "array or by a string array. To create a character array from a sequence\n",
    "of characters in MATLAB, one of the following methods can be used:\n",
    "\n",
    "-   Insert a sequence of characters inside single quotes ('...') to\n",
    "    create a character array\n",
    "-   Use the char function to create a character array\n",
    "\n",
    "To create a string array from a sequence of characters, one of the\n",
    "following methods can be used:\n",
    "\n",
    "-   Insert a sequence of characters inside double quotes (\"...\") to\n",
    "    create a string array\n",
    "-   Use the string function to create a string array\n",
    "\n",
    "Also, a series of strings may be used to form a string array or a cell\n",
    "array. There are more details on a cell array in the following chapters.\n",
    "Here are examples of defining strings in MATLAB:"
   ]
  },
  {
   "cell_type": "code",
   "execution_count": null,
   "id": "606eefd6",
   "metadata": {},
   "outputs": [],
   "source": [
    "%Create a character array\n",
    "name='MATLAB';\n",
    "c=char('word');\n",
    "%Create a string array\n",
    "txt=\"This is a text\";\n",
    "s=string(\"program\");\n",
    "arr=[\"MATLAB\",\"program\"];\n",
    "%Create a cell array\n",
    "cll={\"MATLAB\",\"program\"};\n",
    "%Create a string from a variable\n",
    "%Output: 123\n",
    "a=123;\n",
    "st=string(a);\n",
    "disp(st)"
   ]
  },
  {
   "cell_type": "markdown",
   "id": "0174f173",
   "metadata": {},
   "source": [
    "## 2.8 Strings\n",
    "\n",
    "MATLAB has a series of features and commands for text processing and\n",
    "string manipulation. In MATLAB, a text can be presented by a character\n",
    "array or by a string array. To create a character array from a sequence\n",
    "of characters in MATLAB, one of the following methods can be used:\n",
    "\n",
    "-   Insert a sequence of characters inside single quotes ('...') to\n",
    "    create a character array\n",
    "-   Use the char function to create a character array\n",
    "\n",
    "To create a string array from a sequence of characters, one of the\n",
    "following methods can be used:\n",
    "\n",
    "-   Insert a sequence of characters inside double quotes (\"...\") to\n",
    "    create a string array\n",
    "-   Use the string function to create a string array\n",
    "\n",
    "Also, a series of strings may be used to form a string array or a cell\n",
    "array. There are more details on a cell array in the following chapters.\n",
    "Here are examples of defining strings in MATLAB:"
   ]
  },
  {
   "cell_type": "code",
   "execution_count": null,
   "id": "c7e1107c",
   "metadata": {},
   "outputs": [],
   "source": [
    "%Create a character array\n",
    "name='MATLAB';\n",
    "c=char('word');\n",
    "%Create a string array\n",
    "txt=\"This is a text\";\n",
    "s=string(\"program\");\n",
    "arr=[\"MATLAB\",\"program\"];\n",
    "%Create a cell array\n",
    "cll={\"MATLAB\",\"program\"};\n",
    "%Create a string from a variable\n",
    "%Output: 123\n",
    "a=123;\n",
    "st=string(a);\n",
    "disp(st)"
   ]
  },
  {
   "cell_type": "markdown",
   "id": "64c1dfe1",
   "metadata": {},
   "source": [
    "To add two strings together, which also is known as strings\n",
    "concatenation, two methods can be used. The first one is to use a\n",
    "character array as \\['...' , '...' , '...'\\] to concatenate strings.\n",
    "Note that single quotes are used to define each string. If double quotes\n",
    "are used to define a string, then it generates a string array instead of\n",
    "concatenating strings. The second one is to use the strcat function.\n",
    "Here are examples of attaching two strings together. In these examples,\n",
    "we create a 'butterfly' string from 'butter' and 'fly' strings."
   ]
  },
  {
   "cell_type": "code",
   "execution_count": null,
   "id": "ae239d4b",
   "metadata": {},
   "outputs": [],
   "source": [
    "%Add two strings by ['...','...']\n",
    "%Output: butterfly\n",
    "first_part='butter';\n",
    "second_part='fly';\n",
    "word=[first_part,second_part];\n",
    "disp(word)\n",
    "%Add two strings by strcat\n",
    "%Output: butterfly\n",
    "first_part='butter';\n",
    "second_part='fly';\n",
    "word=strcat(first_part,second_part);\n",
    "disp(word)"
   ]
  },
  {
   "cell_type": "markdown",
   "id": "76488142",
   "metadata": {},
   "source": [
    "Here is an example of how to insert a numerical variable in a string. In\n",
    "this example, we insert a variable that shows a length of a pool into a\n",
    "string. To do that, at first, we use the num2str command to convert a\n",
    "number into a string, and then we use a character array as \\['...' ,\n",
    "'...' , '...'\\] to add all strings together. Note that single quotes are\n",
    "used to define each string."
   ]
  },
  {
   "cell_type": "code",
   "execution_count": null,
   "id": "85ede615",
   "metadata": {},
   "outputs": [],
   "source": [
    "%Insert a numerical variable in a string\n",
    "%Output: Length of this pool is 3m.\n",
    "a=3;\n",
    "txt=['Length of this pool is ',num2str(a),'m.'];\n",
    "disp(txt)"
   ]
  },
  {
   "cell_type": "markdown",
   "id": "c6133e88",
   "metadata": {},
   "source": [
    "Similarly, a string variable can be inserted in a text. Here is an\n",
    "example of how to insert a string variable in a text by using a\n",
    "character array as \\['...' , '...' , '...'\\] to add all strings\n",
    "together. In this example, we insert a string 'pool' into a text."
   ]
  },
  {
   "cell_type": "code",
   "execution_count": null,
   "id": "3567313f",
   "metadata": {},
   "outputs": [],
   "source": [
    "%Insert a string variable in a text\n",
    "%name is replaced by 'pool'\n",
    "%Output: Length of this pool is 3m.\n",
    "name='pool';\n",
    "txt=['Length of this ',name,' is 3m.'];\n",
    "disp(txt)"
   ]
  },
  {
   "cell_type": "markdown",
   "id": "314748df",
   "metadata": {},
   "source": [
    "Indexes (indices) can be used to call characters stored in a string or\n",
    "elements stored in an array. To access an element (character) in a\n",
    "string (character array), an element is called by using a string name\n",
    "followed by an index of that element inside parentheses, (...). For\n",
    "example, consider a string that is stored in a variable named txt. Then,\n",
    "the first element in txt is obtained by txt(1) and the second element is\n",
    "obtained by txt(2). MATLAB uses one-based indexing (numbering). It means\n",
    "that, in MATLAB, the first element has an index 1, the second element\n",
    "has an index 2, and so on. Note that, some programming languages, such\n",
    "as Python (Python Software Foundation; www.python.org), use zero-based\n",
    "indexing, where the first element has an index 0.\n",
    "\n",
    "In MATLAB we can use end as an index. In this case, end is interpreted\n",
    "as the last elements in a corresponding dimension. For example, to\n",
    "access the last element in txt, we can use txt(end). There are more\n",
    "details on indexing and slicing in the following chapters. Here is how a\n",
    "word 'butterfly', which is stored as a string, is indexed in MATLAB:\n",
    "\n",
    "|           |       |       |       |       |       |       |       |       |       |\n",
    "|-----------|-------|-------|-------|-------|-------|-------|-------|-------|-------|\n",
    "| Variable: | b     | u     | t     | t     | e     | r     | f     | l     | y     |\n",
    "|           |       |       |       |       |       |       |       |       |       |\n",
    "| Index:    | \\(1\\) | \\(2\\) | \\(3\\) | \\(4\\) | \\(5\\) | \\(6\\) | \\(7\\) | \\(8\\) | \\(9\\) |\n",
    "\n",
    "Here are examples of calling elements in a string (character array). In\n",
    "this example, the first element is 'b', the second element is 'u', the\n",
    "third element is 't', and so on."
   ]
  },
  {
   "cell_type": "code",
   "execution_count": null,
   "id": "f213b65e",
   "metadata": {},
   "outputs": [],
   "source": [
    "%Use indexes to call characters stored in a character array (string)\n",
    "c='butterfly';\n",
    "fisrt_character=c(1);\n",
    "second_character=c(2);\n",
    "last_character=c(end);"
   ]
  },
  {
   "cell_type": "markdown",
   "id": "cdaab24b",
   "metadata": {},
   "source": [
    "Remember, if we are working with a character array, indexes refer to\n",
    "characters in that array. However, if we are working with a string\n",
    "array, indexes refer to elements in that array. Here are examples of\n",
    "calling elements in a string array. In this example, the first element\n",
    "is \"butterfly\" and the second element is \"wings\"."
   ]
  },
  {
   "cell_type": "code",
   "execution_count": null,
   "id": "9e6225f8",
   "metadata": {},
   "outputs": [],
   "source": [
    "%Use indexes to call elements stored in a string array\n",
    "s=[\"butterfly\",\"wings\"];\n",
    "fisrt_element=s(1);\n",
    "second_element=s(2);"
   ]
  },
  {
   "cell_type": "markdown",
   "id": "cc8cdbcd",
   "metadata": {},
   "source": [
    "MATLAB has a series of formatting operators to format a string or text.\n",
    "Commonly, the fprintf and sprintf functions along with formatting\n",
    "operators are used to format a string. The fprintf function writes\n",
    "(prints) a text to a file or displays it in a command window. The\n",
    "sprintf function creates a string variable.\n",
    "\n",
    "A simple method to format a string or text in MATLAB is to use special\n",
    "characters. These special characters are generally called escape\n",
    "sequences. For example, an escape sequence \\\\t inserts a tab space and\n",
    "an escape sequence \\\\n starts a new line in a printed text. Here are\n",
    "some examples of using escape sequences to format a text:"
   ]
  },
  {
   "cell_type": "code",
   "execution_count": null,
   "id": "b29a2b19",
   "metadata": {},
   "outputs": [],
   "source": [
    "%MATLAB interprets escape sequence \\n as a new-line\n",
    "txt='This is the 1st line \\n this is the 2nd line';\n",
    "fprintf(txt)\n",
    "%MATLAB interprets escape sequence \\t as a tab-space\n",
    "txt='Length of this pool is \\t 3m';\n",
    "fprintf(txt)"
   ]
  },
  {
   "cell_type": "markdown",
   "id": "08dfa5ca",
   "metadata": {},
   "source": [
    "In some texts, a user may intend to use an escape sequence itself,\n",
    "rather than its interpretation. In other words, a user may want to\n",
    "prevent an interpretation of an escape sequence. In such cases, MATLAB\n",
    "should be instructed to ignore a special interpretation of that escape\n",
    "sequence. To do that, a backslash \\\\ is added in front of the escape\n",
    "sequence. Additionally, for some texts such as the ones in a plot, all\n",
    "string configurations can be disregarded by setting a text interpreter\n",
    "to 'none'. Here is an example of using a backslash. In this example, we\n",
    "use a backslash to tell MATLAB to ignore \\\\n in a string, otherwise,\n",
    "MATLAB interprets \\\\n as an escape sequence to start a new line."
   ]
  },
  {
   "cell_type": "code",
   "execution_count": null,
   "id": "81c00fe7",
   "metadata": {},
   "outputs": [],
   "source": [
    "%Backslash before \\n tells MATLAB to ignore this escape sequences\n",
    "%Therefore, MATLAB ignores \\n\n",
    "txt='C:\\\\name'\n",
    "fprintf(txt)"
   ]
  },
  {
   "cell_type": "markdown",
   "id": "0a65818a",
   "metadata": {},
   "source": [
    "The more sophisticated way to format a string in MATLAB is to use a\n",
    "format specifier. To use this method, at first, a section of the string\n",
    "that needs to be formatted is marked by a percent sign followed by a\n",
    "format specifier. Each format specifier presents a placeholder that will\n",
    "be replaced by a given string.\n",
    "\n",
    "The full format specifier has six fields. These fields from left to\n",
    "right are: identifier, flags, field width, precision, subtype, and\n",
    "conversion character. Except for a conversion character, other fields in\n",
    "a format specifier are optional. To mark a format specifier in MATLAB, a\n",
    "leading percent sign, %, should be used right before a format specifier.\n",
    "\n",
    "In general, to use this method, at first, a format specifier, which\n",
    "serves as a placeholder, is placed inside a text. Then, a string that is\n",
    "intended to replace a format specifier (placeholder) is given afterward.\n",
    "For example, the sprintf function is used as sprintf( '...%format\n",
    "specifier...' , replacement strings ). A format specifier may have\n",
    "position identifier as n\\$, which refers to position number n. If format\n",
    "specifier positions are not defined, then each format specifier is\n",
    "replaced by given strings in an order that format specifiers appear in a\n",
    "text. It means that, the first format specifier is replaced by the first\n",
    "string, the second format specifier is replaced by the second string,\n",
    "and so on. However, if a format specifier has a position identifier,\n",
    "then it is replaced by a string that matches its position. For example,\n",
    "%1\\$s is a string format specifier with a position identifier of 1\\$,\n",
    "and is replaced by a string that has the first position in replacement\n",
    "strings. If a text format is not defined, then an imported text from\n",
    "replacement strings follows a default text format.\n",
    "\n",
    "|     |                             |     |                          |     |         |\n",
    "|-----|-----------------------------|-----|--------------------------|-----|---------|\n",
    "|     | MATLAB Conversion Specifier |     |                          |     |         |\n",
    "|     | Conversion Specifier        |     | Description              |     | Example |\n",
    "|     | c                           |     | Single character         |     | %c      |\n",
    "|     | d                           |     | Decimal                  |     | %d      |\n",
    "|     | e                           |     | Exponential (Scientific) |     | %e      |\n",
    "|     | f                           |     | Fixed-point              |     | %f      |\n",
    "|     | s                           |     | String                   |     | %s      |\n",
    "|     | \\- (minus sign)             |     | Left-justify             |     | %-s     |\n",
    "|     | n\\$                         |     | Position identifier      |     | %1\\$s   |\n",
    "\n",
    "Here are steps to insert a simple format specifier as a placeholder in a\n",
    "text and use the sprintf function to replace that format specifier:\n",
    "\n",
    "-   Write the desired text as a string. It can be a standalone string,\n",
    "    or it can be assigned to a variable. For example, consider the\n",
    "    desired text as 'A butterfly has 4 wings.'\n",
    "-   Use a format specifier to substitute a part of the text that needs\n",
    "    to be repeatedly replaced or formatted. For example, assume in the\n",
    "    text 'A butterfly has 4 wings.', a number “4” needs to replaced.\n",
    "    Therefore, the text is rewritten as 'A butterfly has %d wings.'. A\n",
    "    format specifier %d presents a placeholder for a decimal number.\n",
    "-   Use the sprintf function to replace a format specifier. Any value\n",
    "    that is used as the second input argument of the sprintf function\n",
    "    replaces a format specifier. In this example, a number 4 should\n",
    "    replace %d identifier. Therefore, a number 4 is used as the second\n",
    "    input argument of the sprintf function as sprintf('A butterfly has\n",
    "    %d wings.',4). This instructs MATLAB to insert 4 in place of %d.\n",
    "\n",
    "Here are examples of using a format specifier as a placeholder. In these\n",
    "examples, at first, we show how to use and replace a format specifier to\n",
    "insert 4 in a string 'A butterfly has %d wings.'. Then, we present\n",
    "different examples of how to use a format specifier as a placeholder."
   ]
  },
  {
   "cell_type": "code",
   "execution_count": null,
   "id": "501f258b",
   "metadata": {},
   "outputs": [],
   "source": [
    "%Specifier %d defines a decimal placeholder that is replaced by 4\n",
    "%Output: A butterfly has 4 wings.\n",
    "txt=sprintf('A butterfly has %d wings.',4);\n",
    "disp(txt)\n",
    "%Specifier %s defines a string placeholder that is replaced by 'four'\n",
    "%Output: A butterfly has four wings.\n",
    "txt=sprintf('A butterfly has %s wings.','four');\n",
    "disp(txt)\n",
    "%Specifier %d defines a decimal placeholder that is replaced by 4\n",
    "s='A butterfly has %d wings.';\n",
    "txt=sprintf(s,4);\n",
    "disp(txt)\n",
    "%Specifiers %d and %d define two decimal placeholders\n",
    "%that are replaced by 4 and 6\n",
    "%Output: A butterfly has 4 wings and 6 legs.\n",
    "s='A butterfly has %d wings and %d legs.';\n",
    "txt=sprintf(s,4,6);\n",
    "disp(txt)"
   ]
  },
  {
   "cell_type": "markdown",
   "id": "a4b7c816",
   "metadata": {},
   "source": [
    "As mentioned, a format specifier may have position identifier as n\\$,\n",
    "which refers to position number n. A format specifier with a position\n",
    "identifier is replaced by a string that matches its position in\n",
    "replacement strings. Here are examples of using format specifiers as\n",
    "placeholders that have position identifiers."
   ]
  },
  {
   "cell_type": "code",
   "execution_count": null,
   "id": "85f60926",
   "metadata": {},
   "outputs": [],
   "source": [
    "%Specifiers %1$s, %2$s, and %3$s are three string placeholders\n",
    "%identified by position identifiers\n",
    "%Specifier n$ is a position identifier\n",
    "%Example: 1$ is the first position\n",
    "%Specifier %1$s reads as: the first position string\n",
    "%Specifier %1$s refers to a position 1 and is replaced by 'four'\n",
    "%Specifier %2$s refers to a position 2 and is replaced by 'six'\n",
    "%Specifier %3$s refers to a position 3 and is replaced by 'two'\n",
    "%Output: A butterfly has four wings, six legs, and two antennae.\n",
    "s='A butterfly has %1$s wings, %2$s legs, and %3$s antennae.';\n",
    "txt=sprintf(s,'four','six','two');\n",
    "disp(txt)\n",
    "%Specifiers %1$s, %2$s, and %3$s are three string placeholders\n",
    "%identified by position identifiers \n",
    "%Specifier n$ is a position identifier\n",
    "%Example: 1$ is the first position\n",
    "%Specifier %1$s reads as: the first position string\n",
    "%Specifier %1$s refers to a position 1 and is replaced by t[0]\n",
    "%Specifier %2$s refers to a position 2 and is replaced by t[1]\n",
    "%Specifier %3$s refers to a position 3 and is replaced by t[2]\n",
    "%t is a string array\n",
    "t=[\"four\",\"six\",\"two\"];\n",
    "s='A butterfly has %1$s wings, %2$s legs, and %3$s antennae.';\n",
    "txt=sprintf(s,t(1),t(2),t(3));\n",
    "disp(txt)"
   ]
  },
  {
   "cell_type": "markdown",
   "id": "04238586",
   "metadata": {},
   "source": [
    "Here are examples of using variables to replace format specifiers:"
   ]
  },
  {
   "cell_type": "code",
   "execution_count": null,
   "id": "00b0b15c",
   "metadata": {},
   "outputs": [],
   "source": [
    "%Specifiers %s, %s, and %s are three string placeholders\n",
    "%First specifier %s refers to a position 1 and\n",
    "%is replaced by wng='four'\n",
    "%Second specifier %s refers to a position 2 and\n",
    "%is replaced by leg='six'\n",
    "%Third specifier %s refers to a position 3 and\n",
    "%is replaced by ant='two'\n",
    "wng='four';\n",
    "leg='six';\n",
    "ant='two';\n",
    "s='A butterfly has %s wings, %s legs, and %s antennae.';\n",
    "txt=sprintf(s,wng,leg,ant);\n",
    "disp(txt)\n",
    "%Specifiers %1$s, %2$s, and %3$s are three string placeholders\n",
    "%identified by position identifiers\n",
    "%Specifier n$ is a position identifier\n",
    "%Example: 1$ is the first position\n",
    "%Specifier %1$s reads as: the first position string\n",
    "%Specifier %1$s refers to a position 1 and is replaced by wng='four'\n",
    "%Specifier %2$s refers to a position 2 and is replaced by leg='six'\n",
    "%Specifier %3$s refers to a position 3 and is replaced by ant='two'\n",
    "wng='four';\n",
    "leg='six';\n",
    "ant='two';\n",
    "s='A butterfly has %1$s wings, %2$s legs, and %3$s antennae.';\n",
    "txt=sprintf(s,wng,leg,ant);\n",
    "disp(txt)"
   ]
  },
  {
   "cell_type": "markdown",
   "id": "b556762b",
   "metadata": {},
   "source": [
    "As it is demonstrated, a format specifier is used to mark, format and\n",
    "replace a text in a string. To do that, at first, a format specifier,\n",
    "which serves as a placeholder, is placed inside a text. Then, a string\n",
    "that is intended to replace a format specifier is given afterward. For\n",
    "example, the sprintf function is used as sprintf( '...%format\n",
    "specifier...' , replacement strings ). If a format specifier has a\n",
    "position identifier as n\\$, which refers to position number n, then it\n",
    "is replaced by a string that matches nth position in replacement\n",
    "strings. Otherwise, if a format specifier does not have a position\n",
    "identifier, then each format specifier is replaced by given replacement\n",
    "strings in an order that format specifiers appear in a text.\n",
    "\n",
    "A format specifier is defined by conversion specifiers. For example, a\n",
    "letter f defines a fixed-point (float) number if it is used as a text\n",
    "format conversion. To better describe that, consider %1\\$.2f as a format\n",
    "specifier. It interprets as a format specifier that refers to a position\n",
    "1 and has a text format of .2f. The text format of .2f means to use a\n",
    "fixed-point notation with two digits after a decimal point. Here are\n",
    "examples of how to use a format specifier to format a replacement text:"
   ]
  },
  {
   "cell_type": "code",
   "execution_count": null,
   "id": "9e5ae1b1",
   "metadata": {},
   "outputs": [],
   "source": [
    "%Specifier %1$f defines a fixed-point placeholder\n",
    "%identified by a position identifier\n",
    "%Identifier n$ is a position identifier\n",
    "%Example: 1$ is the first position\n",
    "%Specifier %1$f reads as: the first position fixed-point float\n",
    "%Specifier 1$ refers to a position 1 and is replaced by 71\n",
    "%f converts a number to a float\n",
    "%Output: About 71.000000 percent of the Earth surface is covered by water.\n",
    "s='About %1$f percent of the Earth surface is covered by water.';\n",
    "txt=sprintf(s,71);\n",
    "disp(txt)\n",
    "%Specifier %1$.2f defines a fixed-point placeholder\n",
    "%identified by a position identifier\n",
    "%Identifier n$ is a position identifier\n",
    "%Example: 1$ is the first position\n",
    "%Specifier %1$.2f reads as: the first position 2 digits decimal float\n",
    "%Specifier 1$ refers to a position 1 and is replaced by 71\n",
    "%.2f converts a number to a float with 2 digits after decimal point\n",
    "%Output: About 71.00 percent of the Earth surface is covered by water.\n",
    "s='About %1$.2f percent of the Earth surface is covered by\n",
    "water.';\n",
    "txt=sprintf(s,71);\n",
    "disp(txt)\n",
    "%Specifiers %7d, %7d, and %7d are three decimal placeholders\n",
    "%Specifier %7d reads as: 7 characters width decimal number\n",
    "%First specifier %7d refers to a position 1 and is replaced by by 135\n",
    "%Second specifier %7d refers to a position 2 and is replaced by by 206\n",
    "%Third specifier %7d refers to a position 3 and is replaced by by 235\n",
    "%Output: RGB values for sky blue color are: 135, 206, 235.\n",
    "red=135;\n",
    "green=206;\n",
    "blue=235;\n",
    "s='RGB values for sky blue color are:%7d,%7d,%7d.';\n",
    "txt=sprintf(s,red,green,blue);\n",
    "disp(txt)\n",
    "%Specifiers %-7d, %-7d, and %-7d are three decimal placeholders\n",
    "%Specifier %-7d reads as: left-justified 7 characters width decimal number\n",
    "%First specifier %7d refers to a position 1 and is replaced by by 135\n",
    "%Second specifier %7d refers to a position 2 and is replaced by by 206\n",
    "%Third specifier %7d refers to a position 3 and is replaced by by 235\n",
    "%Output: RGB values for sky blue color are:135 ,206 ,235 .\n",
    "red=135;\n",
    "green=206;\n",
    "blue=235;\n",
    "s='RGB values for sky blue color are:%-7d,%-7d,%-7d.';\n",
    "txt=sprintf(s,red,green,blue);\n",
    "disp(txt)\n",
    "%Specifier %.2e is an exponential placeholder replaced by a=123000\n",
    "%Specifier %.2e reads as: 2 digits decimal exponential (scientific number)\n",
    "%Output: 1.23e+05 123000\n",
    "a=123000;\n",
    "s='%.2e';\n",
    "txt=sprintf(s,a);\n",
    "b=str2num(txt);\n",
    "disp(txt)\n",
    "disp(b)\n",
    "%Specifier %d\\n is a decimal placeholder\n",
    "%Specifier \\n interprets as a new-line\n",
    "a=[1000,2000,3000,4000];\n",
    "txt=sprintf('%d\\n',a);\n",
    "disp(txt)"
   ]
  },
  {
   "cell_type": "markdown",
   "id": "094592ba",
   "metadata": {},
   "source": [
    "## 2.9 Vector Creation\n",
    "\n",
    "In MATLAB, all variables are considered as a multidimensional array.\n",
    "However, 1-dimensional and 2-dimensional arrays have specific names. In\n",
    "MATLAB, a 1-dimensional array is called vector and a 2-dimensional array\n",
    "is called matrix. There are two types of vectors, a row vector and a\n",
    "column vector. A row vector is a 1-dimensional array with a single row\n",
    "that has a size of (1xN), where N is a number of elements in a vector. A\n",
    "simple method to create a row vector is to enter a series of numbers\n",
    "separated by a space or comma between two square brackets as \\[ ... ,\n",
    "... , ... \\]. A column vector is a 1-dimensional array with a single\n",
    "column that has a size of (Mx1), where M is a number of elements in a\n",
    "vector. A simple method to create a column vector is to enter a series\n",
    "of numbers separated by a semicolon between two square brackets as \\[\n",
    "... ; ... ; ... \\]. For example, A=\\[1,2,5,3\\] is a row vector with 4\n",
    "elements and B=\\[1;2;5;3\\] is a column vector with 4 elements.\n",
    "\n",
    "A vector creation can be used to generate a sequence of numbers. A\n",
    "simple way to generate a sequence of number in MATLAB is to use a colon,\n",
    ": , for a vector creation. By using a colon, a sequence of numbers can\n",
    "be generated between a start number and a stop number with an interval\n",
    "of a given step. Here is a general syntax for a vector creation using a\n",
    "colon:"
   ]
  },
  {
   "cell_type": "code",
   "execution_count": null,
   "id": "f80e4b40",
   "metadata": {},
   "outputs": [],
   "source": [
    "start : step : stop"
   ]
  },
  {
   "cell_type": "markdown",
   "id": "0f79f820",
   "metadata": {},
   "source": [
    "The start defines a starting number in a sequence. The stop defines the\n",
    "last number in a sequence. Note that, depending on a step value, the\n",
    "stop itself may or may not be included in a sequence. The step defines\n",
    "an interval between every two consecutive numbers in a sequence. The\n",
    "step value is optional. Therefore, if only start and stop values are\n",
    "defined, then by default, step is considered as step=1. Note that, a\n",
    "vector created by a colon is a row vector. Here are different forms that\n",
    "a colon can be used to create a vector:\n",
    "\n",
    "|     |                              |     |         |\n",
    "|-----|------------------------------|-----|---------|\n",
    "|     | Vector creation with a colon |     |         |\n",
    "|     | Syntax                       |     | Default |\n",
    "|     | start : stop                 |     | step=1  |\n",
    "|     | start : step : stop          |     |         |\n",
    "\n",
    "Here are some notes to consider when using a colon to create a vector:\n",
    "\n",
    "-   All start, stop, and step values should be a number.\n",
    "-   Values for start, stop and step can be positive, zero, and negative.\n",
    "    However, if step=0, then an empty row vector is created.\n",
    "-   Depending on a value of the step, a created vector may or may not\n",
    "    contain a stop value.\n",
    "-   The step is optional and its default value is step=1.\n",
    "-   A vector created by a colon is a row vector.\n",
    "\n",
    "Here is an example of using a colon to create a row vector with start\n",
    "and stop values. In this example, we generate integers from 1 to 10."
   ]
  },
  {
   "cell_type": "code",
   "execution_count": null,
   "id": "3f001393",
   "metadata": {},
   "outputs": [],
   "source": [
    "%Use a colon with start and stop values\n",
    "%Output: a=[1, 2, 3, 4, 5, 6, 7, 8, 9, 10]\n",
    "a=1:10;"
   ]
  },
  {
   "cell_type": "markdown",
   "id": "15ea30df",
   "metadata": {},
   "source": [
    "Here is an example of using a colon to create a row vector with start,\n",
    "stop, and step values. In this example, we generate integers from 1 to 9\n",
    "with step 2."
   ]
  },
  {
   "cell_type": "code",
   "execution_count": null,
   "id": "f6504a0b",
   "metadata": {},
   "outputs": [],
   "source": [
    "%Use a colon with start, stop, and step values\n",
    "%Output: a=[1, 3, 5, 7, 9]\n",
    "a=1:2:10;"
   ]
  },
  {
   "cell_type": "markdown",
   "id": "8e908f11",
   "metadata": {},
   "source": [
    "A colon can be used to generate negative numbers as well. Both negative\n",
    "and positive step values can be used when negative integers are\n",
    "generated. Here is an example of using a colon to create a row vector\n",
    "with negative start, stop, and step values. In this example, we generate\n",
    "integers from -1 to -9 with step -2."
   ]
  },
  {
   "cell_type": "code",
   "execution_count": null,
   "id": "f921801c",
   "metadata": {},
   "outputs": [],
   "source": [
    "%Use a colon with negative start, stop, and step values\n",
    "%Output: a=[-1, -3, -5, -7, -9]\n",
    "a=-1:-2:-10;"
   ]
  },
  {
   "cell_type": "markdown",
   "id": "7d75c991",
   "metadata": {},
   "source": [
    "Similarly, a colon can be used to generate a sequence of numbers\n",
    "contained both negative and positive numbers. Again, both negative and\n",
    "positive step values can be used. Here is an example of using a colon to\n",
    "generate negative, zero, and positive values. In this example, we\n",
    "generate integers from -10 to 10 with step 2."
   ]
  },
  {
   "cell_type": "code",
   "execution_count": null,
   "id": "7f9bb43a",
   "metadata": {},
   "outputs": [],
   "source": [
    "%Use a colon to create negative, zero, and positive outcomes\n",
    "%Output: a=[-10, -8, -6, -4, -2, 0, 2, 4, 6, 8, 10]\n",
    "a=-10:2:10;"
   ]
  },
  {
   "cell_type": "markdown",
   "id": "9b3bd216",
   "metadata": {},
   "source": [
    "The start, stop, and step can be either integer or non-integer values.\n",
    "Here is an example of using a colon with both integer and non-integer\n",
    "inputs. In this example, we generate numbers from 1.5 to 4 with step\n",
    "0.5."
   ]
  },
  {
   "cell_type": "code",
   "execution_count": null,
   "id": "95c0725b",
   "metadata": {},
   "outputs": [],
   "source": [
    "%Use a colon with non-integers inputs\n",
    "%Output: a=[1.5, 2, 2.5, 3, 3.5, 4]\n",
    "a=1.5:0.5:4;"
   ]
  },
  {
   "cell_type": "markdown",
   "id": "2aa13c1a",
   "metadata": {},
   "source": [
    "Note that, a=1:2:10 is similar to a=\\[1:2:10\\], however, it is not a\n",
    "common practice to use the latter one with square brackets.\n",
    "\n",
    "As mentioned, a vector created by a colon is a row vector. However, if\n",
    "it is required, a column vector may be generated from a row vector. One\n",
    "method to do that is to use a transpose command. In MATLAB a\n",
    "dot-apostrophe operator, .' , is used to transpose an array. Another\n",
    "method to create a column vector from a row vector is to assign a row\n",
    "vector to a column vector by indexing. In MATLAB, (1,:) index means all\n",
    "elements in a row number one, and (:,1) index means all elements in a\n",
    "column number one. This indexing can be used to generate a column vector\n",
    "from a row vector. There are more details on indexing and slicing in the\n",
    "following chapters. Here are examples of how to obtain a column vector\n",
    "from a row vector:"
   ]
  },
  {
   "cell_type": "code",
   "execution_count": null,
   "id": "cb4e6892",
   "metadata": {},
   "outputs": [],
   "source": [
    "%Create a column vector from a row vector by using a transpose\n",
    "a=1:10; %A row vector\n",
    "b=a.'; %A column vector\n",
    "%Create a column vector from a row vector by indexing\n",
    "a=1:10; %A row vector\n",
    "b(:,1)=a; %A column vector"
   ]
  },
  {
   "cell_type": "markdown",
   "id": "ff7699ca",
   "metadata": {},
   "source": [
    "Note that, similar methods mentioned above may be used to generate a row\n",
    "vector from a column vector as well.\n",
    "\n",
    "## 2.10 The if Statement\n",
    "\n",
    "One of the most well-known and widely-used statements in MATLAB is the\n",
    "if statement. The if statement is used to check given conditions before\n",
    "running (executing) a part of the code that is embedded inside the if\n",
    "statement. This embedded code is known as a body of if statement. If a\n",
    "given conditional expression returns logical 1 (true), then a code\n",
    "within a body of if statement is executed. Otherwise, if a conditional\n",
    "expression returns logical 0 (false), a code within a body of if\n",
    "statement is ignored. Here is a general syntax shows how to use the if\n",
    "statement:"
   ]
  },
  {
   "cell_type": "code",
   "execution_count": null,
   "id": "3ffef105",
   "metadata": {},
   "outputs": [],
   "source": [
    "if conditional expression\n",
    "    body of if\n",
    "end"
   ]
  },
  {
   "cell_type": "markdown",
   "id": "d325c7de",
   "metadata": {},
   "source": [
    "Pay attention to the end keyword at the end of the if statement. This\n",
    "end keyword defines the end of the if statement, and if this end keyword\n",
    "is missing, it causes an error. MATLAB considers a part of the code that\n",
    "comes between the if statement and the end keyword as a body of that if\n",
    "statement. Note that, it is a common practice to indent a body of if\n",
    "statement to make a code more structured and readable. However, this\n",
    "indentation is not required by MATLAB. Here is an example of using the\n",
    "if statement in MATLAB. In this example, at first, a variable a is set\n",
    "to 0. Then an expression a\\<0.5 is evaluated, and if it is true (logical\n",
    "1), a string 'a is smaller than 0.5' is displayed."
   ]
  },
  {
   "cell_type": "code",
   "execution_count": null,
   "id": "245d5919",
   "metadata": {},
   "outputs": [],
   "source": [
    "%A simple if statement\n",
    "a=0;\n",
    "if a<0.5\n",
    "    disp('a is smaller than 0.5')\n",
    "end"
   ]
  },
  {
   "cell_type": "markdown",
   "id": "d9e7b2ba",
   "metadata": {},
   "source": [
    "It is not common to write the if statement in one line. However, if it\n",
    "is needed, an in-line if statement can be written by using the following\n",
    "structure:"
   ]
  },
  {
   "cell_type": "code",
   "execution_count": null,
   "id": "8c7a3ae6",
   "metadata": {},
   "outputs": [],
   "source": [
    "if conditional expression, body of if, end"
   ]
  },
  {
   "cell_type": "markdown",
   "id": "f90db45a",
   "metadata": {},
   "source": [
    "Pay attention to the end keyword after all statements. This end keyword\n",
    "defines the end of the if statement, and if this end keyword is missing,\n",
    "it causes an error. Here is an example of using an in-line form of the\n",
    "if statement in MATLAB. In this example, we re-consider a previous\n",
    "example, but this time, we use an in-line if statement."
   ]
  },
  {
   "cell_type": "code",
   "execution_count": null,
   "id": "34e56846",
   "metadata": {},
   "outputs": [],
   "source": [
    "%An in-line if statement\n",
    "a=0;\n",
    "if a<0.5, disp('a is smaller than 0.5'), end"
   ]
  },
  {
   "cell_type": "markdown",
   "id": "81fc5d81",
   "metadata": {},
   "source": [
    "Here is another example of using the if statement in MATLAB. In this\n",
    "example, we use the rand function to generate a random number in a range\n",
    "(0 , 1). Note that, 0 and 1 are not included in a range. Here, at first,\n",
    "we used the rand function to assign a random number between 0 and 1 to a\n",
    "variable a. Then we use the if statement to evaluate an expression\n",
    "a\\<0.5."
   ]
  },
  {
   "cell_type": "code",
   "execution_count": null,
   "id": "6c8c0381",
   "metadata": {},
   "outputs": [],
   "source": [
    "%Use if statement to check a value of a\n",
    "a=rand(1,1); %Return a random number between 0 and 1\n",
    "if a<0.5\n",
    "    disp('a is smaller than 0.5')\n",
    "    disp(a)\n",
    "end"
   ]
  },
  {
   "cell_type": "markdown",
   "id": "344de005",
   "metadata": {},
   "source": [
    "In the if statement, a combination of several conditional expressions\n",
    "can be used together if needed. In cases that a combination of\n",
    "conditional expressions is used, it is recommended to put each\n",
    "conditional expression in a separate set of parentheses. Here is an\n",
    "example of using multiple conditional expressions with the logical\n",
    "operator in the if statement:"
   ]
  },
  {
   "cell_type": "code",
   "execution_count": null,
   "id": "d8139560",
   "metadata": {},
   "outputs": [],
   "source": [
    "%Use multiple expressions with logical operator to check a value of a\n",
    "a=rand(1,1); %A random number between 0 and 1\n",
    "if ((a<0.5) &amp; (a~=0.5))\n",
    "    disp('a is smaller than 0.5')\n",
    "    disp(a)\n",
    "end"
   ]
  },
  {
   "cell_type": "markdown",
   "id": "91bea9f8",
   "metadata": {},
   "source": [
    "The if statement can be combined with an optional else statement. Each\n",
    "if statement can only have one else statement, which always comes after\n",
    "the if statement. In cases that the if-else statement is used, at first,\n",
    "the if statement is evaluated. In case that the if statement is true, a\n",
    "body of if statement is executed, and the else statement is ignored. It\n",
    "means that, if a conditional expression in the if statement returns\n",
    "logical 1 (true value), then the else statement is ignored. However, in\n",
    "case that the if statement is not true, a body of else statement is\n",
    "executed. Here is a general syntax shows how to use the if-else\n",
    "statement:"
   ]
  },
  {
   "cell_type": "code",
   "execution_count": null,
   "id": "d715564d",
   "metadata": {},
   "outputs": [],
   "source": [
    "if conditional expression1\n",
    "    body of if\n",
    "else\n",
    "    body of else\n",
    "end"
   ]
  },
  {
   "cell_type": "markdown",
   "id": "6b9a066e",
   "metadata": {},
   "source": [
    "Note that, indentations of body of if and body of else are not required\n",
    "by MATLAB. Here is an example of using the if-else statement in MATLAB:"
   ]
  },
  {
   "cell_type": "code",
   "execution_count": null,
   "id": "871602a8",
   "metadata": {},
   "outputs": [],
   "source": [
    "%Use if-else to check a value of a\n",
    "a=rand(1,1); %A random number between 0 and 1\n",
    "if a<0.5\n",
    "    disp('a is smaller than 0.5')\n",
    "    disp(a)\n",
    "else\n",
    "    disp('a is equal or larger than 0.5')\n",
    "    disp(a)\n",
    "end"
   ]
  },
  {
   "cell_type": "markdown",
   "id": "5fb5cf51",
   "metadata": {},
   "source": [
    "Similar to the if-else statement, the if statement can also be combined\n",
    "with optional elseif and else statements. In general, the if statement\n",
    "can be combined with one, both or none of the elseif and else\n",
    "statements. The elseif statement allows to check for more conditional\n",
    "expressions after the if statement.\n",
    "\n",
    "Each if statement can have as many elseif statements as required.\n",
    "Remember that each if statement can only have one else statement. The\n",
    "elseif statements always come after the if statement and before the else\n",
    "statement.\n",
    "\n",
    "In cases that the if-elseif statement is used, at first, the if\n",
    "statement is evaluated. In case that the if statement is true, a body of\n",
    "if statement is executed, and all elseif statements are ignored. It\n",
    "means that, if a conditional expression in the if statement returns\n",
    "logical 1 (true value), then all elseif statements are ignored. However,\n",
    "in case that the if statement is not true, then the first elseif\n",
    "statement is evaluated. Now, if this elseif statement returns a true\n",
    "value, then a body of this elseif statement is executed and the rest of\n",
    "elseif statements are ignored. If this elseif statement returns logical\n",
    "0 (false value), then the next elseif statement is evaluated, and it\n",
    "continues until one elseif statement returns a true value. If none of\n",
    "the if and elseif statements returns a true value, then all of them are\n",
    "ignored. Note that, if a true value is returned by any of the if or\n",
    "elseif statements, the rest of the elseif statements are ignored.\n",
    "\n",
    "Similar steps are used to evaluate the if-elseif-else statement. At\n",
    "first, the if statement is evaluated, and if it is false, then elseif\n",
    "statements are evaluated one by one in an order they appear in a code.\n",
    "Finally, if all previous statements are false, then the else statement\n",
    "is executed. Similar to the if-elseif statement, if a true value is\n",
    "returned by any of the if or elseif statements, the rest of the elseif\n",
    "statements and the else statement are ignored. Here is a general syntax\n",
    "shows how to use the if-elseif-else statement:"
   ]
  },
  {
   "cell_type": "code",
   "execution_count": null,
   "id": "d1159055",
   "metadata": {},
   "outputs": [],
   "source": [
    "if conditional expression1\n",
    "    body of if\n",
    "elseif conditional expression2\n",
    "    body of elseif\n",
    "elseif conditional expression3\n",
    "    body of elseif\n",
    "...\n",
    "else\n",
    "    body of else\n",
    "end"
   ]
  },
  {
   "cell_type": "markdown",
   "id": "32baea47",
   "metadata": {},
   "source": [
    "Note that, indentations of body of if, body of elseif, and body of else\n",
    "are not required by MATLAB. Here is an example of using the if-elseif\n",
    "statement in MATLAB:"
   ]
  },
  {
   "cell_type": "code",
   "execution_count": null,
   "id": "3f59c030",
   "metadata": {},
   "outputs": [],
   "source": [
    "%Use if-elseif to check a value of a\n",
    "a=rand(1,1); %A random number between 0 and 1\n",
    "if a<0.5\n",
    "    disp('a is smaller than 0.5')\n",
    "    disp(a)\n",
    "elseif a>0.5\n",
    "    disp('a is larger than 0.5')\n",
    "    disp(a)\n",
    "elseif a==0.5\n",
    "    disp('a is equal to 0.5')\n",
    "    disp(a)\n",
    "end"
   ]
  },
  {
   "cell_type": "markdown",
   "id": "6796b5f0",
   "metadata": {},
   "source": [
    "Here is an example of using the if-elseif-else statement in MATLAB:"
   ]
  },
  {
   "cell_type": "code",
   "execution_count": null,
   "id": "a3e871ac",
   "metadata": {},
   "outputs": [],
   "source": [
    "%Use if-elseif-else to check a value of a\n",
    "a=rand(1,1); %A random number between 0 and 1\n",
    "if a<0.5\n",
    "    disp('a is smaller than 0.5')\n",
    "    disp(a)\n",
    "elseif a>0.5\n",
    "    disp('a is larger than 0.5')\n",
    "    disp(a)\n",
    "else\n",
    "    disp('a is equal to 0.5')\n",
    "    disp(a)\n",
    "end"
   ]
  },
  {
   "cell_type": "markdown",
   "id": "b55c6c23",
   "metadata": {},
   "source": [
    "The if statement can be used in a nested form as well. A nested if\n",
    "statement is a series of if statements, where each statement is inside\n",
    "another statement. Here is a general syntax of the nested if statement\n",
    "containing 3 statements:"
   ]
  },
  {
   "cell_type": "code",
   "execution_count": null,
   "id": "5fbe1ac8",
   "metadata": {},
   "outputs": [],
   "source": [
    "if conditional expression1\n",
    "    body of if 1\n",
    "\n",
    "    if conditional expression2\n",
    "        body of if 2\n",
    "\n",
    "        if conditional expression3\n",
    "            body of if 3\n",
    "\n",
    "        end\n",
    "    end\n",
    "end"
   ]
  },
  {
   "cell_type": "markdown",
   "id": "6b472e2e",
   "metadata": {},
   "source": [
    "Pay attention to the end keyword at the end of each if statement. These\n",
    "end keywords define the end of each if statement. As mentioned before,\n",
    "an indentation of a body of each if statement is only for structuring a\n",
    "code and is not required by MATLAB. In a nested if statement, each if\n",
    "statement can have optional elseif and else statements as well. Here is\n",
    "an example of the nested if statement. In this example, we use the input\n",
    "function to request an input between 0 and 1 from a user. Then, we use\n",
    "the nested if statement to define a range of the input value."
   ]
  },
  {
   "cell_type": "code",
   "execution_count": null,
   "id": "c64cbdc4",
   "metadata": {},
   "outputs": [],
   "source": [
    "%A nested if statement\n",
    "a=input('Enter a number between 0 and 1: '); %Read a number\n",
    "%between 0 and 1\n",
    "if a<0.5\n",
    "    if a==0\n",
    "        disp('a is equal to 0')\n",
    "    else\n",
    "        disp('a is smaller than 0.5')\n",
    "    end\n",
    "elseif a>0.5\n",
    "    if a==1\n",
    "        disp('a is equal to 1')\n",
    "    else\n",
    "        disp('a is larger than 0.5')\n",
    "    end\n",
    "else\n",
    "    disp('a is equal to 0.5')\n",
    "end"
   ]
  },
  {
   "cell_type": "markdown",
   "id": "8ffe5455",
   "metadata": {},
   "source": [
    "The if statement also may be used to compare character arrays (strings).\n",
    "Here is an example of how to compare two strings in MATLAB:"
   ]
  },
  {
   "cell_type": "code",
   "execution_count": null,
   "id": "9ffbd5f1",
   "metadata": {},
   "outputs": [],
   "source": [
    "%String (character array) comparison\n",
    "a=input('Enter yes or no: ','s'); %Read a string yes or no\n",
    "if strcmp(a,'yes')==1\n",
    "    disp('a is equal to yes')\n",
    "else\n",
    "    disp('a is not equal to yes')\n",
    "end"
   ]
  },
  {
   "cell_type": "markdown",
   "id": "029f10c3",
   "metadata": {},
   "source": [
    "## 2.11 The for Statement\n",
    "\n",
    "During a process of code developments, there might be situations that a\n",
    "set of commands (a block of code) needs to be re-executed repeatedly for\n",
    "a certain number of times. In such cases, a loop is used to iterate\n",
    "these commands for a given number of times. One favorite method to\n",
    "create a loop, is to build a loop by using the for statement.\n",
    "\n",
    "The for statement runs (executes) a part of the code that is embedded\n",
    "inside the for statement for a defined number of times. The embedded\n",
    "code inside the for statement is known as a body of for statement. Here\n",
    "is a general syntax shows how to use the for statement (for loop):"
   ]
  },
  {
   "cell_type": "code",
   "execution_count": null,
   "id": "c956caee",
   "metadata": {},
   "outputs": [],
   "source": [
    "for counter = integer sequence\n",
    "    body of for\n",
    "end"
   ]
  },
  {
   "cell_type": "markdown",
   "id": "db2a2416",
   "metadata": {},
   "source": [
    "Pay attention to the end keyword at the end of the for statement. This\n",
    "end keyword defines the end of the for statement, and if this end\n",
    "keyword is missing, it causes an error. MATLAB considers a part of the\n",
    "code that comes between the for statement and the end keyword as a body\n",
    "of that for statement. Note that, it is a common practice to indent a\n",
    "body of for statement to make a code more structured and readable.\n",
    "However, this indentation is not required by MATLAB.\n",
    "\n",
    "The for statement iterates over the elements of an integer sequence. A\n",
    "total number of the times that the for statement is looped is equal to a\n",
    "total number of elements that are inside a sequence used in the for\n",
    "statement.\n",
    "\n",
    "A counter in the for statement behaves like a variable. In each\n",
    "iteration, the counter receives a content of an element in a sequence.\n",
    "In other words, a content of the counter changes in each iteration of\n",
    "the for loop and becomes equal to a content of the corresponding element\n",
    "inside a sequence. It means that, in the first iteration, a counter\n",
    "becomes equal to the first element in a sequence. In the second\n",
    "iteration, a counter becomes equal to the second element in a sequence.\n",
    "This continues until the last iteration, which a counter becomes equal\n",
    "to the last element in a sequence.\n",
    "\n",
    "The counter in the for statement can have any name, such as a letter or\n",
    "a word. If it is intended to reference or use the counter in a loop, the\n",
    "same exact name of the counter should be used inside a body of for.\n",
    "Remember, we should never change a value of the counter within a body of\n",
    "for statement. For example, we should not assign a new value to a\n",
    "counter while a loop is iterating. The most common names for a counter\n",
    "are: i, j, k, m, n. In cases that there are complex numbers inside a\n",
    "code, it is suggested to use i or j as a counter with caution to avoid a\n",
    "counter being mistaken with an imaginary unit in a complex number.\n",
    "\n",
    "Any integer sequence can be used in the for statement. In cases that\n",
    "working with arrays are intended, a vector creation is commonly used as\n",
    "a sequence. This is particularly helpful if a value of a counter becomes\n",
    "equal to a number of times that a loop has been iterated so far. This\n",
    "helps to use a counter as an array index to address different elements\n",
    "of an array.\n",
    "\n",
    "Here is an example of using a vector creation as a sequence in the for\n",
    "statement. Assume there is an 1-dimensional array a=\\[10,11,12,13,14\\].\n",
    "By using a vector creation 1:5 as a sequence and i as a counter, the for\n",
    "statement is used to raise each element of this array to the power of\n",
    "two."
   ]
  },
  {
   "cell_type": "code",
   "execution_count": null,
   "id": "7b3c8126",
   "metadata": {},
   "outputs": [],
   "source": [
    "%The for statement with a vector 1:5 as a sequence\n",
    "a=[10,11,12,13,14];\n",
    "for i=1:5\n",
    "    b=a(i)^2;\n",
    "    disp(b)\n",
    "end"
   ]
  },
  {
   "cell_type": "markdown",
   "id": "0c74753b",
   "metadata": {},
   "source": [
    "Consider a previous example again. This time we use a vector creation\n",
    "1:2:5 as a sequence and i as a counter to raise the first, third, and\n",
    "fifth elements of this array to the power of two."
   ]
  },
  {
   "cell_type": "code",
   "execution_count": null,
   "id": "f1fc93c5",
   "metadata": {},
   "outputs": [],
   "source": [
    "%The for statement with a vector 1:2:5 as a sequence\n",
    "a=[10,11,12,13,14];\n",
    "for i=1:2:5\n",
    "    b=a(i)^2;\n",
    "    disp(b)\n",
    "end"
   ]
  },
  {
   "cell_type": "markdown",
   "id": "e639c380",
   "metadata": {},
   "source": [
    "Here is an example of using a numeric row vector number=\\[1,2,3,4,5\\] as\n",
    "a sequence and num as a counter in the for statement. In this example,\n",
    "the for statement is used to display a value of num in each iteration.\n",
    "Note that, a counter only iterates over a row vector. In other words, if\n",
    "we need to use a vector as an integer sequence in the for statement, it\n",
    "should be a 1-dimensional row array. Therefore, if we have a column\n",
    "vector, it should be transposed to a row vector before it can be used as\n",
    "a sequence in the for statement."
   ]
  },
  {
   "cell_type": "code",
   "execution_count": null,
   "id": "dfe59bf2",
   "metadata": {},
   "outputs": [],
   "source": [
    "%The for statement with a row vector as a sequence\n",
    "number=[1,2,3,4,5];\n",
    "for num=number\n",
    "    disp(num)\n",
    "end"
   ]
  },
  {
   "cell_type": "markdown",
   "id": "95009800",
   "metadata": {},
   "source": [
    "The for statement can be used in a nested form as well. A nested for\n",
    "loop is a series of for statements, where each loop is inside another\n",
    "loop. Here is a general syntax of the nested for statement containing 3\n",
    "loops:"
   ]
  },
  {
   "cell_type": "code",
   "execution_count": null,
   "id": "3f4b365a",
   "metadata": {},
   "outputs": [],
   "source": [
    "for counter1 = integer sequence1\n",
    "    body of for 1\n",
    " \n",
    "    for counter2 = integer sequence2\n",
    "        body of for 2\n",
    " \n",
    "        for counter3 = integer sequence3\n",
    "            body of for 3\n",
    "\n",
    "        end\n",
    "    end\n",
    "end"
   ]
  },
  {
   "cell_type": "markdown",
   "id": "23ba0eef",
   "metadata": {},
   "source": [
    "Pay attention to the end keyword at the end of each for statement. These\n",
    "end keywords define the end of each for statement. As mentioned before,\n",
    "an indentation of a body of each for statement is only for structuring a\n",
    "code and is not required by MATLAB.\n",
    "\n",
    "A nested for loop can be very helpful if working with multidimensional\n",
    "arrays are intended. This is particularly helpful if sequences are\n",
    "defined in such a way that a value of a counter becomes equal to a\n",
    "number of times that a corresponding loop to that counter has been\n",
    "iterated so far. This helps to use counters as array indexes to address\n",
    "different elements of an array.\n",
    "\n",
    "Here is an example of the nested for statement. Assume we have two\n",
    "arrays of coordinate data. The first one contains six x coordinates as\n",
    "x=\\[0,1,2,5,7,10\\] and the second one contains six y coordinates as\n",
    "y=\\[3,4,5,6,8,9\\]. Now, consider we want to find all pairs of (x,y) that\n",
    "their distances from an origin (0,0) are equal or larger than 10.\n",
    "Remember that a distance of a point (x,y) from an origin (Euclidean\n",
    "norm) is calculated as $$\\sqrt{x^{2} + y^{2}}$$. To find all pairs with\n",
    "a distance equal or larger than 10, we use a nested for statement. To\n",
    "print the results, the fprintf function is used as fprintf('(%d,%d),\n",
    "d=%.2f\\\\n',x(i),y(j),dist). This displays the results in a form of\n",
    "(x,y), distance=XX.XX."
   ]
  },
  {
   "cell_type": "code",
   "execution_count": null,
   "id": "a6320de1",
   "metadata": {},
   "outputs": [],
   "source": [
    "%A nested for statement\n",
    "x=[0,1,2,5,7,10];\n",
    "y=[3,4,5,6,8,9];\n",
    "for i=1:6\n",
    "    for j=1:6\n",
    "        dist=sqrt(x(i)^2+y(j)^2); %Distance\n",
    "        if dist>=10\n",
    "            fprintf('(%d,%d), distance=%.2f\\n',x(i),y(j),dist)\n",
    "        end\n",
    "    end\n",
    "end"
   ]
  },
  {
   "cell_type": "markdown",
   "id": "6c43406a",
   "metadata": {},
   "source": [
    "The break and continue keywords can be used in a body of for statement.\n",
    "The break keyword stops a loop and breaks out of the for loop. The\n",
    "continue keyword stops a current iteration of a loop as ignoring a rest\n",
    "of commands in a loop and continues with the next iteration.\n",
    "\n",
    "## 2.12 The while Statement\n",
    "\n",
    "The while statement is a loop that is used to re-execute a set of\n",
    "commands (a block of code) repeatedly as long as a given conditional\n",
    "expression is true. The while statement consists of a conditional\n",
    "expression and a body of while statement. A part of the code that is\n",
    "embedded inside the while statement is known as a body of while\n",
    "statement. At each iteration, first, the while statement checks a\n",
    "conditional expression. If a conditional expression returns logical 1\n",
    "(true), then the while statement runs (executes) a body of while\n",
    "statement. After running a body of the while statement, it checks a\n",
    "conditional expression again. If it is true, it re-runs the loop one\n",
    "more time. This procedure continues until a conditional expression\n",
    "becomes logical 0 (false). At any iteration, including the first one, if\n",
    "a conditional expression returns false, the while statement exits. Here\n",
    "is a general syntax shows how to use the while statement (while loop):"
   ]
  },
  {
   "cell_type": "code",
   "execution_count": null,
   "id": "041c8c8a",
   "metadata": {},
   "outputs": [],
   "source": [
    "while conditional expression\n",
    "    body of while\n",
    "end"
   ]
  },
  {
   "cell_type": "markdown",
   "id": "a723f59e",
   "metadata": {},
   "source": [
    "Pay attention to the end keyword at the end of the while statement. This\n",
    "end keyword defines the end of the while statement, and if this end\n",
    "keyword is missing, it causes an error. MATLAB considers a part of the\n",
    "code that comes between the while statement and the end keyword as a\n",
    "body of that while statement. Note that, it is a common practice to\n",
    "indent a body of while statement to make a code more structured and\n",
    "readable. However, this indentation is not required by MATLAB.\n",
    "\n",
    "When we use the while statement, we have to make sure that a conditional\n",
    "expression becomes false at some point. The reason is that, if a\n",
    "conditional expression is given in a way that it never becomes false,\n",
    "then the while statement goes into infinite loop iterations and never\n",
    "stops.\n",
    "\n",
    "Here is an example of using the while statement in MATLAB. In this\n",
    "example, the while statement is used to raise elements of an array\n",
    "a=\\[0,1,2,3,4,5\\] to the power of two. To do that, at first, a variable\n",
    "n is used as an element index and set to 1 as n=1. Then, a while loop is\n",
    "used to check a value of n. If a value of n is equal or less than a\n",
    "length of an array, then the nth element of an array, a(n), is raised to\n",
    "the power of two and stored in the variable b. After that, a value of b\n",
    "is displayed and a value of n is increased by one. This loop is repeated\n",
    "until a variable n is no longer equal or smaller than a length of an\n",
    "array. To find a length of an array the length function is used. In this\n",
    "case, a length of the array a (a number of elements in a) is equal to 6."
   ]
  },
  {
   "cell_type": "code",
   "execution_count": null,
   "id": "03c48746",
   "metadata": {},
   "outputs": [],
   "source": [
    "%The while statement\n",
    "a=[0,1,2,3,4,5];\n",
    "n=1;\n",
    "while n<=length(a)\n",
    "    b=a(n)^2; %Raise a(n) to the power of 2\n",
    "    disp(b)\n",
    "    n=n+1;\n",
    "end"
   ]
  },
  {
   "cell_type": "markdown",
   "id": "e899861a",
   "metadata": {},
   "source": [
    "The while statement can be used in a nested form as well. A nested while\n",
    "loop is a series of while statements, where each loop is inside another\n",
    "loop. Here is a general syntax of the nested while statement containing\n",
    "3 loops:"
   ]
  },
  {
   "cell_type": "code",
   "execution_count": null,
   "id": "735be26f",
   "metadata": {},
   "outputs": [],
   "source": [
    "while conditional expression1\n",
    "    body of while 1\n",
    " \n",
    "    while conditional expression2\n",
    "        body of while 2\n",
    " \n",
    "        while conditional expression3\n",
    "            body of while 3\n",
    "\n",
    "        end\n",
    "    end\n",
    "end"
   ]
  },
  {
   "cell_type": "markdown",
   "id": "5af1047a",
   "metadata": {},
   "source": [
    "Pay attention to the end keyword at the end of each while statement.\n",
    "These end keywords define the end of each while statement. As mentioned\n",
    "before, an indentation of a body of each while statement is only for\n",
    "structuring a code and is not required by MATLAB.\n",
    "\n",
    "The break and continue keywords can be used inside the while statement.\n",
    "The break keyword stops a loop and breaks out of the while loop. The\n",
    "continue keyword stops a current iteration of a loop as ignoring a rest\n",
    "of commands in a loop and continues with the next iteration.\n",
    "\n",
    "## 2.13 Define a Function\n",
    "\n",
    "During a process of a code development, there might be situations that a\n",
    "set of commands (a block of code) needs to be repeatedly included and\n",
    "reused in a different part of a code. Furthermore, these commands might\n",
    "be required to be used in different codes. In such cases, it is\n",
    "practical to define these commands as a function. Then, every time that\n",
    "these commands are required in a code, instead of copying all the codes\n",
    "related to these commands, a function that contains these commands is\n",
    "called. A function provides a practical and simple way to call a set of\n",
    "commands over and over again, which helps to make a code clean and\n",
    "structured. Here is a general syntax shows how to define a function:"
   ]
  },
  {
   "cell_type": "code",
   "execution_count": null,
   "id": "91717771",
   "metadata": {},
   "outputs": [],
   "source": [
    "function [output1, output2, ...] = function_name(argument1, argument2, ...)\n",
    "%function help\n",
    "body of function\n",
    "end"
   ]
  },
  {
   "cell_type": "markdown",
   "id": "2e2a324a",
   "metadata": {},
   "source": [
    "A block of a code that is embedded inside a function is known as a body\n",
    "of function. Pay attention to the end keyword at the end of the\n",
    "function. This end keyword defines the end of the function, and if this\n",
    "end keyword is missing, it may cause an error. MATLAB considers a part\n",
    "of the code that comes between a function definition line and the end\n",
    "keyword as a body of that function. Note that, we may indent a body of\n",
    "function to make a code more structured and readable. However, this\n",
    "indentation is not required by MATLAB.\n",
    "\n",
    "A function can have zero or as many as required arguments as inputs.\n",
    "Also, if needed, a function can return a value of any variable used\n",
    "inside that function as an output.\n",
    "\n",
    "In MATLAB, there are two methods to call a function. In the first\n",
    "method, a function is initially saved in a file with a .m extension, and\n",
    "then, it is called in another file or in a command window. Note that, a\n",
    "file that contains a function should have an exact same name as a\n",
    "function name. For example, if the name of a function is my_function,\n",
    "then a name of a file that contains this function should be\n",
    "my_function.m. Remember, to call a function, either a current folder of\n",
    "MATLAB should be the same as a folder that contains a function file, or\n",
    "a folder that contains a function file should be added to MATLAB search\n",
    "path, otherwise, MATLAB cannot find the function. In the second method,\n",
    "a function is stored at the end of a script file. In this case, a\n",
    "function can be called anywhere within that script file. Here is a\n",
    "general syntax shows how to call a function:"
   ]
  },
  {
   "cell_type": "code",
   "execution_count": null,
   "id": "17f3eb80",
   "metadata": {},
   "outputs": [],
   "source": [
    "[output1, output2, ...] = function_name(argument1, argument2, ...)"
   ]
  },
  {
   "cell_type": "markdown",
   "id": "d196126d",
   "metadata": {},
   "source": [
    "Here is an example of a function that does not have an input argument\n",
    "and does not return any value. This function is named squared and saved\n",
    "in a file squared.m. Every time this function is called, it raises each\n",
    "of 0, 1, 2, 3, and 4 to the power of two and displays the results."
   ]
  },
  {
   "cell_type": "code",
   "execution_count": null,
   "id": "cceb895b",
   "metadata": {},
   "outputs": [],
   "source": [
    "%Define a function to print squared values of 0,1,2,3,4\n",
    "function squared()\n",
    "for i=0:4\n",
    "    a=i^2;\n",
    "    disp(a)\n",
    "end\n",
    "end"
   ]
  },
  {
   "cell_type": "markdown",
   "id": "898edfd4",
   "metadata": {},
   "source": [
    "To call this function, simply use its name, squared, in a code or a\n",
    "command window. Here is an example of how to call this function:"
   ]
  },
  {
   "cell_type": "code",
   "execution_count": null,
   "id": "85666b1b",
   "metadata": {},
   "outputs": [],
   "source": [
    "%Call a function\n",
    "squared()"
   ]
  },
  {
   "cell_type": "markdown",
   "id": "f981414b",
   "metadata": {},
   "source": [
    "Here is another example of defining and using a function. This time, a\n",
    "function gets input arguments and also returns output variables. This\n",
    "function is named circle and saved in a file circle.m. It gets a radius\n",
    "of a circle as an input argument and returns an area and a circumference\n",
    "of that circle. In this function, the first output is an area and the\n",
    "second output is a circumference of a circle."
   ]
  },
  {
   "cell_type": "code",
   "execution_count": null,
   "id": "173711e8",
   "metadata": {},
   "outputs": [],
   "source": [
    "%Define a function to calculate area and circumference of a\n",
    "circle\n",
    "function [area,circ]=circle(radius)\n",
    "area=pi*radius^2; %Area of a circle\n",
    "circ=2*pi*radius; %Circumference of a circle\n",
    "end"
   ]
  },
  {
   "cell_type": "markdown",
   "id": "c192046f",
   "metadata": {},
   "source": [
    "Here are examples of how to call this function in a code or a command\n",
    "window:"
   ]
  },
  {
   "cell_type": "code",
   "execution_count": null,
   "id": "fad63171",
   "metadata": {},
   "outputs": [],
   "source": [
    "%Call a function for a circle with radius=5\n",
    "%Output: A=78.5398, C=31.4159\n",
    "radius=5;\n",
    "[A,C]=circle(radius)\n",
    "%Call a function for a circle with radius=5\n",
    "%Output: A=78.5398, C=31.4159\n",
    "[A,C]=circle(5)\n",
    "%Call a function for a circle with radius=5\n",
    "%Output: A=78.5398, C=31.4159\n",
    "r=5;\n",
    "[A,C]=circle(r)"
   ]
  },
  {
   "cell_type": "markdown",
   "id": "8774aa48",
   "metadata": {},
   "source": [
    "When a function is called in a code, the input variables can have any\n",
    "names. It means that, input variables are not required to have the same\n",
    "names as the ones that are used to define a function, although they can\n",
    "be the same. In this example, 3 different methods are used to call a\n",
    "function to calculate an area and a circumference of a circle with a\n",
    "radius of 5. In the first method, at first, a value of 5 is assigned to\n",
    "a variable radius and then it is used as \\[A,C\\]=circle(radius). In the\n",
    "second method, an integer 5 is used directly in place of an input\n",
    "argument as \\[A,C\\]=circle(5). In the third method, at first, a value of\n",
    "5 is assigned to a variable r and then it is used to in place of an\n",
    "input argument as \\[A,C\\]=circle(r). This example shows how to use any\n",
    "variable or number to replace an input argument.\n",
    "\n",
    "Similarly, when a function is called in a code, the outputs of a\n",
    "function can be assigned to any variable names. It means that, output\n",
    "variables are not required to have the same name as the ones that are\n",
    "used inside a function, although they can be the same. In this example,\n",
    "variable names area and circ are used for an area and a circumference\n",
    "inside the function. However, when a function is called, variable names\n",
    "A and C are used. MATLAB assigns a value of area into A and a value of\n",
    "circ into C.\n",
    "\n",
    "During a course of defining a function, a user can assign default values\n",
    "to any input arguments of that function. If input arguments of a\n",
    "function have default values, then, none, some, or all of these\n",
    "arguments with default values may be excluded when a function is called.\n",
    "In a case that any of the input arguments with default values is not\n",
    "given when a function is called, then its default value is used by a\n",
    "function. One method to exclude default arguments is to exclude them in\n",
    "a reverse order from the last default argument toward the first default\n",
    "argument. In this case, all remaining arguments should be in an exact\n",
    "order that is defined in a function. Another method is to assign empty\n",
    "value by using \\[\\] to input arguments that are not at the end of an\n",
    "argument list. In this case, a default value is used for any argument\n",
    "that is set equal to \\[\\].\n",
    "\n",
    "One method to define default values for input arguments of a function is\n",
    "to use the switch, nargin and isempty functions. The switch function is\n",
    "similar to the if-elseif function. Based on a given conditional\n",
    "expression, the switch function executes one case (a set of commands)\n",
    "from all given cases. The nargin function gives a number of input\n",
    "arguments that a user used when a function is called. For example, if a\n",
    "function has 5 input arguments and a user only uses the first two, then\n",
    "the nargin return 2. The isempty function checks if a variable is empty\n",
    "or not. If a variable is empty it returns logical 1 (true), otherwise,\n",
    "it returns logical 0 (false).\n",
    "\n",
    "To explain how to use default arguments when a function is called, let’s\n",
    "consider a function that calculates a surface area and a volume of a\n",
    "rectangular box (cuboid). This function is named box and saved in a file\n",
    "box.m. It gets a length, width, and height of a box as inputs and\n",
    "returns a surface area and a volume of that box. In this example,\n",
    "default values are assigned to all three input arguments and set as\n",
    "length=1, width=1, and height=1. In a case that none of the input\n",
    "arguments are given, a function returns a surface area and a volume of a\n",
    "unit cube."
   ]
  },
  {
   "cell_type": "code",
   "execution_count": null,
   "id": "1a971159",
   "metadata": {},
   "outputs": [],
   "source": [
    "%Define a function to calculate surface area and\n",
    "%volume of a rectangular box\n",
    "function [area,vol]=box(length,width,height)\n",
    "switch nargin\n",
    "    case 0 %if nargin==0\n",
    "    length=1; width=1; height=1; \n",
    "    case 1 %elseif nargin==1\n",
    "    width=1; height=1; \n",
    "    case 2 %elseif nargin==2\n",
    "    height=1; \n",
    "end\n",
    "if isempty(length)==1\n",
    "    length=1;\n",
    "end\n",
    "if isempty(width)==1\n",
    "    width=1;\n",
    "end\n",
    "if isempty(height)==1\n",
    "    height=1;\n",
    "end\n",
    "area=2*(length*width+length*height+width*height); %Surface area\n",
    "%of a box\n",
    "vol=length*width*height; %Volume of a box\n",
    "end"
   ]
  },
  {
   "cell_type": "markdown",
   "id": "1fa6df2c",
   "metadata": {},
   "source": [
    "Here in this function, we chose an order of input arguments as length,\n",
    "width, height. Remember, any other order for these variables may be\n",
    "considered when a function is defined. Now, we show a couple of\n",
    "different ways to call this function when using its default arguments."
   ]
  },
  {
   "cell_type": "code",
   "execution_count": null,
   "id": "f91cc909",
   "metadata": {},
   "outputs": [],
   "source": [
    "%Call a function for a box with length=10, width=5, height=3\n",
    "%Output: A=190, V=150\n",
    "[A,V]=box(10,5,3);\n",
    "%Call a function for a box with length=10, width=5,\n",
    "height=default\n",
    "%Output: A=130, V=50\n",
    "[A,V]=box(10,5);\n",
    "%Call a function for a box with\n",
    "%length=10, width=default, height=default\n",
    "%Output: A=42, V=10\n",
    "[A,V]=box(10);\n",
    "%Call a function for a box with\n",
    "%length=default, width=default, height=default\n",
    "%Output: A=6, V=1\n",
    "[A,V]=box();\n",
    "%Call a function for a box with length=10, width=default,\n",
    "height=3\n",
    "%Output: A=86, V=30\n",
    "[A,V]=box(10,[],3);\n",
    "%Call a function for a box with length=default, width=default,\n",
    "height=3\n",
    "%Output: A=14, V=3\n",
    "[A,V]=box([],[],3);"
   ]
  },
  {
   "cell_type": "markdown",
   "id": "0d2c77eb",
   "metadata": {},
   "source": [
    "In this example, we used \\[\\] to assign an empty value to input\n",
    "arguments. The reason is that as it mentioned, all arguments should be\n",
    "used in an exact order that is defined in a function. Therefore, if we\n",
    "need to use a default value for an argument which is not the last, we\n",
    "have to use \\[\\] in its place.\n",
    "\n",
    "Assigning default values to input arguments of a function is optional.\n",
    "Therefore, during a function definition, a user may assign default\n",
    "values to none, some, or all of the input arguments. In case that only\n",
    "some of the input arguments have default values, all arguments without\n",
    "default values should come first in a function definition line, and then\n",
    "all arguments with default values should follow them. In other words, in\n",
    "a function definition line, all default arguments should follow\n",
    "non-default arguments, and therefore, non-default arguments cannot\n",
    "follow default arguments. It means that, if we only need to define a\n",
    "default value for one argument, that argument should be the last\n",
    "argument in a function argument list. Similarly, if we need to define\n",
    "default values only for two arguments, those two arguments should be the\n",
    "last and the one before the last argument, and so on. Remember, an order\n",
    "of all arguments is defined by a user. The only restriction is that all\n",
    "default arguments should follow non-default arguments.\n",
    "\n",
    "For example, assume we only need a default value for a height in a\n",
    "previous example. Then a function may be defined as function\n",
    "\\[area,vol\\]=box(length,width,height) or as function\n",
    "\\[area,vol\\]=box(width,length,height) . Now, if we only need a default\n",
    "value for a length, a function can be defined as function\n",
    "\\[area,vol\\]=box(width,height,length) or as function\n",
    "\\[area,vol\\]=box(height,width,length) . As another example, assume we\n",
    "need a default values for both width and height. Then a function can be\n",
    "defined as function \\[area,vol\\]=box(length, width, height) , or as\n",
    "function \\[area,vol\\]=box(length, height, width) .\n",
    "\n",
    "Here is another example of how to use a default argument in a function.\n",
    "Assume we need to define a function to approximate a value of the Pi\n",
    "number, $$\\pi$$. Remember that, an exact value for the Pi number can be\n",
    "obtained from the pi. One method to approximate the Pi number is to use\n",
    "the Leibniz formula for Pi (also known as a Gregory-Leibniz series). The\n",
    "Leibniz formula approximates the Pi value as\n",
    "$$\\frac{\\pi}{4} = {1 - \\frac{1}{3} + \\frac{1}{5} - \\frac{1}{7} + \\frac{1}{9} - \\ldots}$$\n",
    ". This series may be written as\n",
    "$$\\frac{\\pi}{4} = {\\sum\\limits_{n = 1}^{\\infty}{\\pm\\frac{1}{2{n - 1}}}}$$\n",
    ", where odd terms are positive and even terms are negative. The function\n",
    "to approximate Pi is named approx_pi and saved in a file approx_pi.m. It\n",
    "gets a total number of terms to be included in the Leibniz formula as an\n",
    "input and returns an approximated Pi value by this formula. Here is how\n",
    "to use this formula to approximate the Pi number:"
   ]
  },
  {
   "cell_type": "code",
   "execution_count": null,
   "id": "fcda39c2",
   "metadata": {},
   "outputs": [],
   "source": [
    "%Define a function to approximate Pi using Leibniz formula\n",
    "%n_terms: number of terms in Leibniz formula\n",
    "function [PI]=approx_pi(n_terms)\n",
    "switch nargin\n",
    "    case 0 %if nargin==0\n",
    "    n_terms=1000000; \n",
    "end\n",
    "sigma=0; %Initialize sigma\n",
    "sign_value=1; %Define a sign value as 1 or -1\n",
    "for n=1:n_terms\n",
    "    %sigma=1-(1/3)+(1/5)-(1/7)+(1/9)-...\n",
    "    sigma=sigma+sign_value/(2*n-1);\n",
    "    sign_value=-sign_value;\n",
    "end\n",
    "PI=4*sigma; %PI/4=sigma\n",
    "end"
   ]
  },
  {
   "cell_type": "markdown",
   "id": "910b7deb",
   "metadata": {},
   "source": [
    "Here are examples of how to call this function in a code or a command\n",
    "window:"
   ]
  },
  {
   "cell_type": "code",
   "execution_count": null,
   "id": "3eb01638",
   "metadata": {},
   "outputs": [],
   "source": [
    "%Call a function to approximate Pi with default\n",
    "n_terms=1000000\n",
    "[PI]=approx_pi()\n",
    "%Call a function to approximate Pi with n_terms=10000\n",
    "[PI]=approx_pi(10000)"
   ]
  },
  {
   "cell_type": "markdown",
   "id": "b36885f7",
   "metadata": {},
   "source": [
    "In this example, at first, a function is called to approximate a value\n",
    "of Pi by using a default number of terms as \\[PI\\]=approx_pi(). By\n",
    "default, this function uses 1000000 terms in the Leibniz formula for Pi\n",
    "approximation. Then, a function is called again, but this time, a number\n",
    "of terms to be included in the Leibniz formula is set to 10000 as\n",
    "\\[PI\\]=approx_pi(10000). Remember that a fraction of (355/113) gives a\n",
    "good approximation for the Pi, which is accurate up to 6 digits after a\n",
    "decimal point. Again, an exact value for the Pi number can be obtained\n",
    "from the pi.\n",
    "\n",
    "It is a common practice to include some documentation with a function.\n",
    "It provides descriptions of a function for users. Also, it helps\n",
    "developers for future references. In MATLAB, comments are used for this\n",
    "purpose. A help for a function is placed right after a definition line\n",
    "of a function. To separate help lines from the rest of the function,\n",
    "leave a blank line (without %) between the end of help lines and the\n",
    "rest of commands and comments that do not belong to the help. Note that,\n",
    "in addition to functions, a help text can be used at the beginning of\n",
    "any program.\n",
    "\n",
    "Here is an example of a function with a help text. This function is\n",
    "named calc_rectangle and saved in a file calc_rectangle.m. It gets a\n",
    "length and width of a rectangle as inputs and calculates its area and\n",
    "perimeter."
   ]
  },
  {
   "cell_type": "code",
   "execution_count": null,
   "id": "071875c4",
   "metadata": {},
   "outputs": [],
   "source": [
    "function [area,perim]=calc_rectangle(length,width)\n",
    "%calc_rectangle calculates an area and a perimeter of rectangle.\n",
    "%Inputs: length and width of a rectangle\n",
    "%Outputs: area and perimeter of a rectangle.\n",
    "area=length*width; %Area of a rectangle\n",
    "perim=2*(length+width); %Perimeter of a rectangle\n",
    "end"
   ]
  },
  {
   "cell_type": "markdown",
   "id": "2fb8e7f6",
   "metadata": {},
   "source": [
    "Here is an example of how to call this function in a code or a command\n",
    "window:"
   ]
  },
  {
   "cell_type": "code",
   "execution_count": null,
   "id": "492a926e",
   "metadata": {},
   "outputs": [],
   "source": [
    "%Call a function for a rectangle with length=10,width=5\n",
    "%Output: area=50, perim=30\n",
    "[area,perim]=calc_rectangle(10,5)"
   ]
  },
  {
   "cell_type": "markdown",
   "id": "c2e10c9c",
   "metadata": {},
   "source": [
    "To access a help text for any function, the help function is used. To\n",
    "access a help text, the help function should be followed by a function\n",
    "name. Here is an example of how to access a help text in the\n",
    "calc_rectangle function:"
   ]
  },
  {
   "cell_type": "code",
   "execution_count": null,
   "id": "d9b36be7",
   "metadata": {},
   "outputs": [],
   "source": [
    "%Access a help text using help function\n",
    "help calc_rectangle"
   ]
  },
  {
   "cell_type": "markdown",
   "id": "0f1d1ad5",
   "metadata": {},
   "source": [
    "## 2.14 The varargin\n",
    "\n",
    "We can use varargin if we need to define a function with an arbitrary\n",
    "number of input arguments. In other words, if we are not sure how many\n",
    "input arguments might be passed to a function, we can use varargin in a\n",
    "function definition line. Here is a general syntax shows how to define a\n",
    "function with an arbitrary number of input arguments:"
   ]
  },
  {
   "cell_type": "code",
   "execution_count": null,
   "id": "01384020",
   "metadata": {},
   "outputs": [],
   "source": [
    "function [output1, output2, ...] = function_name(args, varargin)\n",
    "body of function\n",
    "end"
   ]
  },
  {
   "cell_type": "markdown",
   "id": "a7ba4946",
   "metadata": {},
   "source": [
    "In a function definition, we may have none, one, two, or more input\n",
    "arguments before varargin.\n",
    "\n",
    "Let’s explain how to use varargin in a function to present an arbitrary\n",
    "number of inputs. The varargin represents input arguments as a cell\n",
    "array. A cell array is a MATLAB data container. To access elements in a\n",
    "cell array, we can place an element index inside curly brackets, {}.\n",
    "There are more details on cell arrays in the following chapters.\n",
    "\n",
    "Consider we need to define a function that gets an arbitrary number of\n",
    "inputs and returns a sum of all inputs. This function is named\n",
    "input_sum. Remember, the nargin function returns a number of input\n",
    "arguments in a function."
   ]
  },
  {
   "cell_type": "code",
   "execution_count": null,
   "id": "0a31b60e",
   "metadata": {},
   "outputs": [],
   "source": [
    "%Define a function to calculate sum of inputs\n",
    "function [s]=input_sum(varargin)\n",
    "s=0;\n",
    "for i=1:nargin\n",
    "    s=s+varargin{i};\n",
    "end\n",
    "end"
   ]
  },
  {
   "cell_type": "markdown",
   "id": "214c7091",
   "metadata": {},
   "source": [
    "Now, we call this function to calculate, first, a sum of 1, 2, then a\n",
    "sum of 1, 2, 3, and finally a sum of 1, 2, 3, 4. In the last example,\n",
    "first, we assign 1, 2, 3, 4 to a, b, c, and d variables and then we use\n",
    "these variables when we call a function."
   ]
  },
  {
   "cell_type": "code",
   "execution_count": null,
   "id": "c84c36da",
   "metadata": {},
   "outputs": [],
   "source": [
    "%Call a function to add 1,2\n",
    "%Output: s=3\n",
    "[s]=input_sum(1,2);\n",
    "%Call a function to add 1,2,3\n",
    "%Output: s=6\n",
    "[s]=input_sum(1,2,3);\n",
    "%Call a function to add 1,2,3,4\n",
    "%Output: s=10\n",
    "a=1;\n",
    "b=2;\n",
    "c=3;\n",
    "d=4;\n",
    "[s]=input_sum(a,b,c,d);"
   ]
  },
  {
   "cell_type": "markdown",
   "id": "af879db3",
   "metadata": {},
   "source": [
    "## 2.15 Define Anonymous Function\n",
    "\n",
    "In a previous section, it is explained how to define a function.\n",
    "However, there are cases that we only need a small one-line function.\n",
    "These types of functions are anonymous and are defined by using the @\n",
    "symbol. These functions are called anonymous functions. Here is a\n",
    "general syntax shows how to use the anonymous function:"
   ]
  },
  {
   "cell_type": "code",
   "execution_count": null,
   "id": "7a1f4e7e",
   "metadata": {},
   "outputs": [],
   "source": [
    "@ (arguments) expression"
   ]
  },
  {
   "cell_type": "markdown",
   "id": "114f250e",
   "metadata": {},
   "source": [
    "Here are some notes about an anonymous function:\n",
    "\n",
    "-   It is a one-line function.\n",
    "-   It may have any number of arguments as inputs.\n",
    "-   It is restricted to have only a single expression.\n",
    "-   It executes this expression and returns results of that.\n",
    "\n",
    "Here is an example of using the @ symbol to define an anonymous\n",
    "function. This function raises its argument to the power of 3."
   ]
  },
  {
   "cell_type": "code",
   "execution_count": null,
   "id": "7a66250f",
   "metadata": {},
   "outputs": [],
   "source": [
    "%Anonymous function to raise input to the power of 3\n",
    "cubed = @(x) x^3;"
   ]
  },
  {
   "cell_type": "markdown",
   "id": "43970ce4",
   "metadata": {},
   "source": [
    "Now, to use this anonymous function, we can simply pass an argument to\n",
    "it. Here is an example of how to call this anonymous function in a code\n",
    "or a command window:"
   ]
  },
  {
   "cell_type": "code",
   "execution_count": null,
   "id": "5dcb73c0",
   "metadata": {},
   "outputs": [],
   "source": [
    "%Call an anonymous function\n",
    "%Outcome: 125\n",
    "a=cubed(5);\n",
    "disp(a)"
   ]
  },
  {
   "cell_type": "markdown",
   "id": "7ab3f248",
   "metadata": {},
   "source": [
    "Here is another example of an anonymous function. In this example, we\n",
    "define an anonymous function that gets x and y as its input arguments\n",
    "and returns a distance of a point with (x,y) coordinates from an origin\n",
    "(0,0). Remember that a distance of a point (x,y) from an origin\n",
    "(Euclidean norm) is calculated as $$\\sqrt{x^{2} + y^{2}}$$."
   ]
  },
  {
   "cell_type": "code",
   "execution_count": null,
   "id": "f558b1fe",
   "metadata": {},
   "outputs": [],
   "source": [
    "%Anonymous function to calculate distance of (x,y) from (0,0)\n",
    "d = @(x,y) sqrt(x^2+y^2);"
   ]
  },
  {
   "cell_type": "markdown",
   "id": "86d1a314",
   "metadata": {},
   "source": [
    "Here is an example of how to call this anonymous function in a code or a\n",
    "command window:"
   ]
  },
  {
   "cell_type": "code",
   "execution_count": null,
   "id": "0610a8ba",
   "metadata": {},
   "outputs": [],
   "source": [
    "%Call an anonymous function\n",
    "%Outcome: 5\n",
    "a=d(3,4);\n",
    "disp(a)"
   ]
  },
  {
   "cell_type": "markdown",
   "id": "00fbeee6",
   "metadata": {},
   "source": [
    "An anonymous function may be used inside another anonymous function. In\n",
    "other words, we can define an anonymous function that contains an\n",
    "anonymous function. By doing that, multiple anonymous functions can be\n",
    "defined. Here is an example of how to use an anonymous function inside\n",
    "another anonymous function. Assume we want to define an anonymous\n",
    "function that raises any number to a given power. Here is how to define\n",
    "this anonymous function. It gets a power value n as an input and returns\n",
    "an anonymous function that raises its input argument to the power of n."
   ]
  },
  {
   "cell_type": "code",
   "execution_count": null,
   "id": "64ba85b3",
   "metadata": {},
   "outputs": [],
   "source": [
    "%Anonymous function to raise input to the power of n\n",
    "power_n = @(n) (@(x) x^n);"
   ]
  },
  {
   "cell_type": "markdown",
   "id": "06f4475a",
   "metadata": {},
   "source": [
    "Now, assume we want a function to raise its input to the power of 3.\n",
    "Here is how to call this anonymous function to do that in a code or a\n",
    "command window. The f function raises its input to the power 3."
   ]
  },
  {
   "cell_type": "code",
   "execution_count": null,
   "id": "4b7b1e39",
   "metadata": {},
   "outputs": [],
   "source": [
    "%Call an anonymous function\n",
    "%Outcome: 1000\n",
    "f=power_n(3); %Raise to the power 3\n",
    "a=f(10);\n",
    "disp(a)"
   ]
  },
  {
   "cell_type": "markdown",
   "id": "1c44c7ba",
   "metadata": {},
   "source": [
    "As another example, assume we want a function to raise its input to the\n",
    "power of 8. Here is how to call this anonymous function to do that in a\n",
    "code or a command window. The g function raises its input to the power\n",
    "8."
   ]
  },
  {
   "cell_type": "code",
   "execution_count": null,
   "id": "5d6086e6",
   "metadata": {},
   "outputs": [],
   "source": [
    "%Call an anonymous function\n",
    "%Outcome: 256\n",
    "g=power_n(8); %Raise to the power 8\n",
    "a=g(2);\n",
    "disp(a)"
   ]
  },
  {
   "cell_type": "markdown",
   "id": "aee80de5",
   "metadata": {},
   "source": [
    "## 2.16 Name-Value Pair Arguments\n",
    "\n",
    "In most MATLAB functions, we need to pass some input arguments to a\n",
    "function when we call that function. Besides regular input arguments,\n",
    "some of MATLAB functions also receive one or more optional\n",
    "comma-separated Name-Value pair arguments in a form of 'Name', Value. In\n",
    "a Name-Value pair argument, the 'Name' defines a name of the optional\n",
    "argument, while the Value contains values to be assigned to this\n",
    "optional argument. In general, we can use none, one, or as many\n",
    "Name-Value pair arguments as accepted by a function. These Name-Value\n",
    "pair arguments may be used in any order. Note that, the 'Name' and Value\n",
    "always should be used as a pair. Here is a general syntax shows how to\n",
    "call a function with both regular arguments and Name-Value pair\n",
    "arguments:"
   ]
  },
  {
   "cell_type": "code",
   "execution_count": null,
   "id": "f760e9cc",
   "metadata": {},
   "outputs": [],
   "source": [
    "[out1, ...] = fun_name(arg1, ..., argN, 'Name1', Value1, ..., 'NameN', ValueN)"
   ]
  },
  {
   "cell_type": "markdown",
   "id": "4a7213d7",
   "metadata": {},
   "source": [
    "For example, MATLAB has the plot function that plots 2-d line. By\n",
    "default, the plot function draws a line using a color from a MATLAB\n",
    "default color order. Now, if we need to use a custom color to plot a\n",
    "line, we can use a Name-Value pair argument as 'Color',LineColor to\n",
    "specify a line color.\n",
    "\n",
    "Here is an example shows how to use a Name-Value pair argument in the\n",
    "plot function. Assume we have two arrays X and Y and we want to plot a\n",
    "line from these two arrays with a gray color. For this purpose, we use a\n",
    "Name-Value pair argument as 'Color',\\[0.5,0.5,0.5\\] which 'Color'\n",
    "defines a name of the optional argument and \\[0.5,0.5,0.5\\] contains RGB\n",
    "values for gray color."
   ]
  },
  {
   "cell_type": "code",
   "execution_count": null,
   "id": "4b5bd31c",
   "metadata": {},
   "outputs": [],
   "source": [
    "%Plot line with gray color\n",
    "X=[1,2,3,4,5]; %X data\n",
    "Y=[1,2,3,4,5]; %Y data\n",
    "plot(X,Y,'Color',[0.5,0.5,0.5])"
   ]
  },
  {
   "cell_type": "markdown",
   "id": "62707a93",
   "metadata": {},
   "source": [
    "## 2.17 Tilde ( \\~ )\n",
    "\n",
    "In MATLAB, a tilde character, \\~ , can be used for two applications. One\n",
    "application for a tilde is to use it as a logical not. For example, an\n",
    "expression (\\~x) returns logical 1 (true) if x is false, otherwise, it\n",
    "returns logical 0 (false).\n",
    "\n",
    "Another application for a tilde is to use it in a code to ignore a\n",
    "variable or a value. To explain how it works, consider a function that\n",
    "calculates a surface area and volume of a sphere. This function is named\n",
    "calc_sphere and saved in a file calc_sphere.m. It gets a radius of a\n",
    "sphere as an input and returns a surface area and volume of that sphere.\n",
    "In this function, the first output is a surface area and the second\n",
    "output is a volume. Let’s consider a case that we are only interested in\n",
    "a value of a volume which is the second value returned by this function.\n",
    "Now, since we do not need a value of a surface area, assume we prefer to\n",
    "ignore it. To ignore a value of a surface area which is the first value\n",
    "returned by this function, we can simply replace it with a tilde. Here\n",
    "is an example that shows how to use a tilde to ignore an output of a\n",
    "function:"
   ]
  },
  {
   "cell_type": "code",
   "execution_count": null,
   "id": "e561a1fd",
   "metadata": {},
   "outputs": [],
   "source": [
    "%A function to calculate surface area and volume of a sphere\n",
    "function [area,vol]=calc_sphere(radius)\n",
    "area=4*pi*radius^2; %Surface area of a sphere\n",
    "vol=4/3*pi*radius^3; %Volume of a sphere\n",
    "end"
   ]
  },
  {
   "cell_type": "markdown",
   "id": "42307f98",
   "metadata": {},
   "source": [
    "Now, we use a tilde to ignore an output of a function:"
   ]
  },
  {
   "cell_type": "code",
   "execution_count": null,
   "id": "798e65ec",
   "metadata": {},
   "outputs": [],
   "source": [
    "%Ignore the first output of a function\n",
    "%Output: b=523.5987\n",
    "[~,b]=calc_sphere(5)"
   ]
  },
  {
   "cell_type": "markdown",
   "id": "bcac42dd",
   "metadata": {},
   "source": [
    "A tilde also may be used to ignore input arguments of a function as\n",
    "well. This application of a tilde is beyond a scope of this text.\n",
    "\n",
    "## 2.18 Working with File and Directory\n",
    "\n",
    "There are many instances that it is required to work with files and\n",
    "directories in a code. For that purpose, a path of a file or directory\n",
    "should be obtained or passed to MATLAB. However, the format of a file or\n",
    "directory path depends on an operating system that is on a computer.\n",
    "Windows uses a backslash, \\\\, between folder names in a file or\n",
    "directory path. Mac and Linux use a forward-slash, /, between folder\n",
    "names in a file or directory path. Here are basic structures of paths in\n",
    "Windows, Mac and Linux systems:"
   ]
  },
  {
   "cell_type": "code",
   "execution_count": null,
   "id": "d3056c67",
   "metadata": {},
   "outputs": [],
   "source": [
    "File path on Windows systems:\n",
    "main_directory\\1st_folder\\2nd_folder\\file_name\n",
    "\n",
    "File path on Mac and Linux systems:\n",
    "/main_directory/1st_folder/2nd_folder/file_name"
   ]
  },
  {
   "cell_type": "markdown",
   "id": "40554acd",
   "metadata": {},
   "source": [
    "In MATLAB, a file or directory path should always be defined by\n",
    "following an operating system convention. Using a wrong slash in a path\n",
    "to separates folder causes an error. Here are examples of how to use a\n",
    "file path in MATLAB:"
   ]
  },
  {
   "cell_type": "code",
   "execution_count": null,
   "id": "0cce83e8",
   "metadata": {},
   "outputs": [],
   "source": [
    "%File path on Windows System, using a backslash\n",
    "file_path='C:\\test_folder'\n",
    "%File path on Mac and Linux System, using a forward-slash\n",
    "file_path='/home/test_folder'"
   ]
  },
  {
   "cell_type": "markdown",
   "id": "df648e29",
   "metadata": {},
   "source": [
    "In MATLAB, to get a current working directory, the pwd function can be\n",
    "used. Here is an example of how to get a current working directory:"
   ]
  },
  {
   "cell_type": "code",
   "execution_count": null,
   "id": "2c9ed0ea",
   "metadata": {},
   "outputs": [],
   "source": [
    "%Return a current working directory\n",
    "current_folder=pwd"
   ]
  },
  {
   "cell_type": "markdown",
   "id": "16fa328b",
   "metadata": {},
   "source": [
    "To change a current working directory, the cd function can be used. Here\n",
    "is an example of how to change a current working directory:"
   ]
  },
  {
   "cell_type": "code",
   "execution_count": null,
   "id": "78297ebd",
   "metadata": {},
   "outputs": [],
   "source": [
    "%Change a current working directory\n",
    "cd('C:\\test_folder')"
   ]
  },
  {
   "cell_type": "markdown",
   "id": "238620a9-9b56-4bcf-9e7e-d46e7efe8f24",
   "metadata": {},
   "source": [
    "Also, the path function allows to view or change MATLAB search path."
   ]
  }
 ],
 "metadata": {
  "kernelspec": {
   "display_name": "Python 3 (ipykernel)",
   "language": "python",
   "name": "python3"
  },
  "language_info": {
   "codemirror_mode": {
    "name": "ipython",
    "version": 3
   },
   "file_extension": ".py",
   "mimetype": "text/x-python",
   "name": "python",
   "nbconvert_exporter": "python",
   "pygments_lexer": "ipython3",
   "version": "3.9.5"
  }
 },
 "nbformat": 4,
 "nbformat_minor": 5
}
